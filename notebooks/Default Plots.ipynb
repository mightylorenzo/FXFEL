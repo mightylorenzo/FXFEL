{
 "cells": [
  {
   "cell_type": "markdown",
   "metadata": {},
   "source": [
    "# Producing Default Plots #\n",
    "\n",
    "Using Bokeh it is possible to display all the plots in an interactive fashion and this library provides a simple way to generate a large number of default plots per file and also allows for plotting any combination of parameters. It is also possible to generate 'interactive' plots that allow you to use a slider to move through the start to end simulation.\n",
    "\n",
    "To start, we just import the plotting and processing tools:"
   ]
  },
  {
   "cell_type": "code",
   "execution_count": 1,
   "metadata": {
    "collapsed": true
   },
   "outputs": [],
   "source": [
    "from accsviz import processing_tools as pt"
   ]
  },
  {
   "cell_type": "markdown",
   "metadata": {},
   "source": [
    "Then we define the file containing the data to be analysized and plotted, the undulator parameters for the FEL analysis, and the number of slices to measure the parameters over:"
   ]
  },
  {
   "cell_type": "code",
   "execution_count": 2,
   "metadata": {
    "collapsed": true,
    "scrolled": true
   },
   "outputs": [],
   "source": [
    "filepath = 'test.h5'  # Particle file (with path) in SU format\n",
    "au = 1.2 # Undulator parameter (peak)\n",
    "lamw = 0.0275 # Undulator period\n",
    "nslices = 50 # Number of slices for integrated data (e.g. emittance, current, etc)"
   ]
  },
  {
   "cell_type": "markdown",
   "metadata": {},
   "source": [
    "Then process the data using the `ProcessedData` class. When creating the object, pass it the previously defined parameters. If the beam contains empty 'slices', then you may get some runtime warnings about divide by zeros etc - this seems to be OK (!), and the plotting routines below still seem to work in this case. Nevertheless, these warnings should be removed in the future."
   ]
  },
  {
   "cell_type": "code",
   "execution_count": 7,
   "metadata": {
    "scrolled": true
   },
   "outputs": [],
   "source": [
    "FEL = pt.ProcessedData(filepath, num_slices=nslices, undulator_period=lamw, k_fact=au)"
   ]
  },
  {
   "cell_type": "markdown",
   "metadata": {},
   "source": [
    "The returned object, an instance of class 'ProcessedData', contains all the calculated data for plotting (including labels, etc).\n",
    "\n",
    "## Plotting\n",
    "\n",
    "### Bokeh Plotting (producing .html files)\n",
    "\n",
    "There are different plotting methods/classes which can use this plotting data - one class is the `Bokeh_Plotting` class. This creates and manipulates the plots, which are displayed in an html file which can be opened with any browser. To show the default plots, simply pass it the `ProcessedData` instance (here called `FEL`) to instantiate it, and then run the routines to prepare the plots (which internally use `Bokeh`), and then display them. The `html` file should automatically open in your browser. Note the tabs at the top of the page to navigate to different plots."
   ]
  },
  {
   "cell_type": "code",
   "execution_count": 4,
   "metadata": {
    "scrolled": false
   },
   "outputs": [],
   "source": [
    "plots = pt.Bokeh_Plotting(FEL)\n",
    "plots.prepare_defaults(file_name='test')  # (...so the html file will have name 'test.html')\n",
    "plots.plot_defaults(show_html=True)"
   ]
  },
  {
   "cell_type": "markdown",
   "metadata": {},
   "source": [
    "(In the opened html file you can save each plot to your local drive as png's. To save pngs you'll need npm install -g phantomjs-prebuilt)\n",
    "\n",
    "### Panda Plotting (producing .png files)\n",
    "\n",
    "Another class used for plotting is `Panda_Plotting`, which generates the plots as png's (in the current directory). To plot the default plots, similarly to before, pass it the ProcessedData object, and call the `plot_defaults` function. The files should appear in the current directory."
   ]
  },
  {
   "cell_type": "code",
   "execution_count": 6,
   "metadata": {
    "collapsed": true
   },
   "outputs": [],
   "source": [
    "pngs = pt.Panda_Plotting(FEL)\n",
    "pngs.plot_defaults()"
   ]
  }
 ],
 "metadata": {
  "kernelspec": {
   "display_name": "Python 2",
   "language": "python",
   "name": "python2"
  },
  "language_info": {
   "codemirror_mode": {
    "name": "ipython",
    "version": 2
   },
   "file_extension": ".py",
   "mimetype": "text/x-python",
   "name": "python",
   "nbconvert_exporter": "python",
   "pygments_lexer": "ipython2",
   "version": "2.7.14"
  }
 },
 "nbformat": 4,
 "nbformat_minor": 2
}
