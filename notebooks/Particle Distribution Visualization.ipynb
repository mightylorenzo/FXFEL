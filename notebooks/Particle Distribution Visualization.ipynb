{
 "cells": [
  {
   "cell_type": "markdown",
   "metadata": {},
   "source": [
    "First, import the processing tools that contain classes and methods to read, plot and process standard unit particle distribution files. "
   ]
  },
  {
   "cell_type": "code",
   "execution_count": 1,
   "metadata": {
    "collapsed": true
   },
   "outputs": [],
   "source": [
    "from accsviz import processing_tools as pt\n"
   ]
  },
  {
   "cell_type": "markdown",
   "metadata": {},
   "source": [
    "The module consists of a class 'ParticleDistribution' that initializes to a dictionary containing the following entries given a filepath:\n",
    "\n",
    "|key | value     |\n",
    "|----|-----------|\n",
    "|'x' | x position|\n",
    "|'y' | y position|\n",
    "|'z' | z position|\n",
    "|'px'| x momentum|\n",
    "|'py'| y momentum|\n",
    "|'pz'| z momentum|\n",
    "|'NE'| number of electrons per macroparticle|\n",
    "\n",
    "The units are in line with the Standard Unit specifications, but can be converted to SI by calling the class method SU2SI\n",
    "\n",
    "Values can then be called by calling the 'dict':"
   ]
  },
  {
   "cell_type": "code",
   "execution_count": 2,
   "metadata": {
    "collapsed": false
   },
   "outputs": [
    {
     "data": {
      "text/plain": [
       "array([  1.20390857e-05,   1.19987648e-05,  -5.26944824e-05, ...,\n",
       "        -1.00743962e-05,  -2.33553430e-06,  -8.14314855e-05])"
      ]
     },
     "execution_count": 2,
     "metadata": {},
     "output_type": "execute_result"
    }
   ],
   "source": [
    "filepath = './example/example.h5'\n",
    "\n",
    "data = pt.ParticleDistribution(filepath)\n",
    "data.su2si\n",
    "data.dict['x']"
   ]
  },
  {
   "cell_type": "markdown",
   "metadata": {},
   "source": [
    "Alternatively one can ask for a pandas dataframe where each column is one of the above properties of a macroparticle per row."
   ]
  },
  {
   "cell_type": "code",
   "execution_count": 4,
   "metadata": {
    "collapsed": false
   },
   "outputs": [
    {
     "data": {
      "text/html": [
       "<div>\n",
       "<style>\n",
       "    .dataframe thead tr:only-child th {\n",
       "        text-align: right;\n",
       "    }\n",
       "\n",
       "    .dataframe thead th {\n",
       "        text-align: left;\n",
       "    }\n",
       "\n",
       "    .dataframe tbody tr th {\n",
       "        vertical-align: top;\n",
       "    }\n",
       "</style>\n",
       "<table border=\"1\" class=\"dataframe\">\n",
       "  <thead>\n",
       "    <tr style=\"text-align: right;\">\n",
       "      <th></th>\n",
       "      <th>NE</th>\n",
       "      <th>px</th>\n",
       "      <th>py</th>\n",
       "      <th>pz</th>\n",
       "      <th>x</th>\n",
       "      <th>y</th>\n",
       "      <th>z</th>\n",
       "    </tr>\n",
       "  </thead>\n",
       "  <tbody>\n",
       "    <tr>\n",
       "      <th>0</th>\n",
       "      <td>31210.986267</td>\n",
       "      <td>0.006629</td>\n",
       "      <td>-0.000466</td>\n",
       "      <td>468.491974</td>\n",
       "      <td>0.000012</td>\n",
       "      <td>-0.000009</td>\n",
       "      <td>49.293173</td>\n",
       "    </tr>\n",
       "    <tr>\n",
       "      <th>1</th>\n",
       "      <td>31210.986267</td>\n",
       "      <td>0.007306</td>\n",
       "      <td>0.001122</td>\n",
       "      <td>466.837388</td>\n",
       "      <td>0.000012</td>\n",
       "      <td>-0.000057</td>\n",
       "      <td>49.293423</td>\n",
       "    </tr>\n",
       "    <tr>\n",
       "      <th>2</th>\n",
       "      <td>31210.986267</td>\n",
       "      <td>0.008277</td>\n",
       "      <td>-0.000318</td>\n",
       "      <td>470.839422</td>\n",
       "      <td>-0.000053</td>\n",
       "      <td>-0.000002</td>\n",
       "      <td>49.292852</td>\n",
       "    </tr>\n",
       "    <tr>\n",
       "      <th>3</th>\n",
       "      <td>31210.986267</td>\n",
       "      <td>0.008169</td>\n",
       "      <td>0.005924</td>\n",
       "      <td>465.713097</td>\n",
       "      <td>0.000024</td>\n",
       "      <td>-0.000049</td>\n",
       "      <td>49.293612</td>\n",
       "    </tr>\n",
       "    <tr>\n",
       "      <th>4</th>\n",
       "      <td>31210.986267</td>\n",
       "      <td>0.010275</td>\n",
       "      <td>0.001735</td>\n",
       "      <td>472.664255</td>\n",
       "      <td>-0.000079</td>\n",
       "      <td>0.000025</td>\n",
       "      <td>49.292614</td>\n",
       "    </tr>\n",
       "  </tbody>\n",
       "</table>\n",
       "</div>"
      ],
      "text/plain": [
       "             NE        px        py          pz         x         y          z\n",
       "0  31210.986267  0.006629 -0.000466  468.491974  0.000012 -0.000009  49.293173\n",
       "1  31210.986267  0.007306  0.001122  466.837388  0.000012 -0.000057  49.293423\n",
       "2  31210.986267  0.008277 -0.000318  470.839422 -0.000053 -0.000002  49.292852\n",
       "3  31210.986267  0.008169  0.005924  465.713097  0.000024 -0.000049  49.293612\n",
       "4  31210.986267  0.010275  0.001735  472.664255 -0.000079  0.000025  49.292614"
      ]
     },
     "execution_count": 4,
     "metadata": {},
     "output_type": "execute_result"
    }
   ],
   "source": [
    "panda_data = data.DistFrame()\n",
    "panda_data[0:5]"
   ]
  },
  {
   "cell_type": "markdown",
   "metadata": {},
   "source": [
    "This allows for quick plotting using the inbuilt pandas methods"
   ]
  },
  {
   "cell_type": "code",
   "execution_count": 5,
   "metadata": {
    "collapsed": false
   },
   "outputs": [
    {
     "data": {
      "image/png": "[encoded data removed]",
      "text/plain": [
       "<matplotlib.figure.Figure at 0x7f3be9b19f10>"
      ]
     },
     "metadata": {},
     "output_type": "display_data"
    }
   ],
   "source": [
    "import matplotlib.pyplot as plt\n",
    "matplotlib.style.use('ggplot') #optional\n",
    "\n",
    "x_axis = 'py'\n",
    "y_axis = 'px'\n",
    "\n",
    "\n",
    "plot = panda_data.plot(kind='scatter',x=x_axis,y=y_axis)\n",
    "#sets axis limits  \n",
    "plot.set_xlim([panda_data[x_axis].min(),panda_data[x_axis].max()])\n",
    "plot.set_ylim([panda_data[y_axis].min(),panda_data[y_axis].max()])\n",
    "plt.show(plot)"
   ]
  },
  {
   "cell_type": "markdown",
   "metadata": {},
   "source": [
    "If further statistical analysis is required, the class 'Statistics' is provided. This contains methods to process standard properties of the electron bunch. This is called by giving a filepath to 'Statistics' The following operations can be performed:\n",
    "\n",
    "| Function            | Effect and dict keys                                                                                                     |\n",
    "|---------------------|-------------------------------------------------------------------------------------------------------------------------------|\n",
    "| calc_emittance | Calculates the emittance of all the slices, accessible by 'e_x' and 'e_y'                                                     |\n",
    "| calc_CoM                 | Calculates the weighed averages and standard deviations per slice of every parameter and beta functions, see below for keys.  |\n",
    "| calc_current         | Calculates current per slice, accessible in the dict as 'current'.                                                       |\n",
    "|slice | Slices the data in equal slices of an integer number. |\n",
    "\n",
    "This is a subclass of the ParticleDistribution and all the methods previously described work.\n",
    "\n",
    "\n",
    "| CoM Keys                | Parameter (per slice)                                      |\n",
    "|------------------------|------------------------------------------------------------|\n",
    "| CoM_x, CoM_y, CoM_z    | Centre of mass of x, y, z positions                        |\n",
    "| std_x, std_y, std_z    | Standard deviation of x, y, z positions                    |\n",
    "| CoM_px, CoM_py, CoM_pz | Centre of mass of x, y, z momenta                          |\n",
    "| std_px, std_py, std_pz | Standard deviation of x, y, z momenta                      |\n",
    "| beta_x, beta_y         | Beta functions (assuming Gaussian distribution) in x and y |\n",
    "\n",
    "\n",
    "Furthermore, there is a 'Step_Z' which returns the size of a slice as well as 'z_pos' which gives you central position of a given slice.\n",
    "\n",
    "And from this class both the DistFrame (containing the same data as above) and StatsFrame can be called:"
   ]
  },
  {
   "cell_type": "code",
   "execution_count": 6,
   "metadata": {
    "collapsed": false,
    "scrolled": true
   },
   "outputs": [
    {
     "data": {
      "text/html": [
       "<div>\n",
       "<style>\n",
       "    .dataframe thead tr:only-child th {\n",
       "        text-align: right;\n",
       "    }\n",
       "\n",
       "    .dataframe thead th {\n",
       "        text-align: left;\n",
       "    }\n",
       "\n",
       "    .dataframe tbody tr th {\n",
       "        vertical-align: top;\n",
       "    }\n",
       "</style>\n",
       "<table border=\"1\" class=\"dataframe\">\n",
       "  <thead>\n",
       "    <tr style=\"text-align: right;\">\n",
       "      <th></th>\n",
       "      <th>CoM_px</th>\n",
       "      <th>CoM_py</th>\n",
       "      <th>CoM_pz</th>\n",
       "      <th>CoM_x</th>\n",
       "      <th>CoM_y</th>\n",
       "      <th>CoM_z</th>\n",
       "      <th>beta_x</th>\n",
       "      <th>beta_y</th>\n",
       "      <th>current</th>\n",
       "      <th>e_x</th>\n",
       "      <th>e_y</th>\n",
       "      <th>slice_z</th>\n",
       "      <th>std_px</th>\n",
       "      <th>std_py</th>\n",
       "      <th>std_pz</th>\n",
       "      <th>std_x</th>\n",
       "      <th>std_y</th>\n",
       "      <th>std_z</th>\n",
       "      <th>z_pos</th>\n",
       "    </tr>\n",
       "  </thead>\n",
       "  <tbody>\n",
       "    <tr>\n",
       "      <th>0</th>\n",
       "      <td>1.090988e-24</td>\n",
       "      <td>-9.604622e-26</td>\n",
       "      <td>1.302979e-19</td>\n",
       "      <td>-0.000034</td>\n",
       "      <td>-0.000007</td>\n",
       "      <td>49.292099</td>\n",
       "      <td>0.235018</td>\n",
       "      <td>0.655127</td>\n",
       "      <td>4.635644</td>\n",
       "      <td>1.390731e-07</td>\n",
       "      <td>1.365778e-07</td>\n",
       "      <td>49.292098</td>\n",
       "      <td>6.944301e-25</td>\n",
       "      <td>3.385691e-24</td>\n",
       "      <td>1.315555e-23</td>\n",
       "      <td>0.000109</td>\n",
       "      <td>0.000180</td>\n",
       "      <td>0.000005</td>\n",
       "      <td>49.292098</td>\n",
       "    </tr>\n",
       "    <tr>\n",
       "      <th>1</th>\n",
       "      <td>1.119572e-24</td>\n",
       "      <td>3.881272e-25</td>\n",
       "      <td>1.302565e-19</td>\n",
       "      <td>-0.000041</td>\n",
       "      <td>0.000019</td>\n",
       "      <td>49.292115</td>\n",
       "      <td>0.180635</td>\n",
       "      <td>0.827244</td>\n",
       "      <td>5.751632</td>\n",
       "      <td>1.297608e-07</td>\n",
       "      <td>1.489005e-07</td>\n",
       "      <td>49.292115</td>\n",
       "      <td>8.234089e-25</td>\n",
       "      <td>3.774013e-24</td>\n",
       "      <td>1.259130e-23</td>\n",
       "      <td>0.000092</td>\n",
       "      <td>0.000211</td>\n",
       "      <td>0.000005</td>\n",
       "      <td>49.292115</td>\n",
       "    </tr>\n",
       "    <tr>\n",
       "      <th>2</th>\n",
       "      <td>1.093419e-24</td>\n",
       "      <td>-1.290899e-25</td>\n",
       "      <td>1.302164e-19</td>\n",
       "      <td>-0.000032</td>\n",
       "      <td>-0.000007</td>\n",
       "      <td>49.292133</td>\n",
       "      <td>0.106912</td>\n",
       "      <td>0.409024</td>\n",
       "      <td>10.387276</td>\n",
       "      <td>2.116124e-07</td>\n",
       "      <td>1.782308e-07</td>\n",
       "      <td>49.292133</td>\n",
       "      <td>9.638639e-25</td>\n",
       "      <td>2.905490e-24</td>\n",
       "      <td>1.109932e-23</td>\n",
       "      <td>0.000090</td>\n",
       "      <td>0.000162</td>\n",
       "      <td>0.000005</td>\n",
       "      <td>49.292133</td>\n",
       "    </tr>\n",
       "    <tr>\n",
       "      <th>3</th>\n",
       "      <td>1.187010e-24</td>\n",
       "      <td>-1.562527e-25</td>\n",
       "      <td>1.301782e-19</td>\n",
       "      <td>-0.000034</td>\n",
       "      <td>-0.000010</td>\n",
       "      <td>49.292151</td>\n",
       "      <td>0.071391</td>\n",
       "      <td>0.316972</td>\n",
       "      <td>12.619253</td>\n",
       "      <td>1.981626e-07</td>\n",
       "      <td>1.770423e-07</td>\n",
       "      <td>49.292150</td>\n",
       "      <td>1.076412e-24</td>\n",
       "      <td>2.479309e-24</td>\n",
       "      <td>1.108139e-23</td>\n",
       "      <td>0.000071</td>\n",
       "      <td>0.000142</td>\n",
       "      <td>0.000005</td>\n",
       "      <td>49.292150</td>\n",
       "    </tr>\n",
       "    <tr>\n",
       "      <th>4</th>\n",
       "      <td>1.206306e-24</td>\n",
       "      <td>-1.290574e-25</td>\n",
       "      <td>1.301406e-19</td>\n",
       "      <td>-0.000035</td>\n",
       "      <td>-0.000011</td>\n",
       "      <td>49.292168</td>\n",
       "      <td>0.080260</td>\n",
       "      <td>0.435046</td>\n",
       "      <td>13.306015</td>\n",
       "      <td>1.717004e-07</td>\n",
       "      <td>1.798360e-07</td>\n",
       "      <td>49.292168</td>\n",
       "      <td>1.242799e-24</td>\n",
       "      <td>2.735644e-24</td>\n",
       "      <td>1.122382e-23</td>\n",
       "      <td>0.000071</td>\n",
       "      <td>0.000168</td>\n",
       "      <td>0.000005</td>\n",
       "      <td>49.292168</td>\n",
       "    </tr>\n",
       "  </tbody>\n",
       "</table>\n",
       "</div>"
      ],
      "text/plain": [
       "         CoM_px        CoM_py        CoM_pz     CoM_x     CoM_y      CoM_z  \\\n",
       "0  1.090988e-24 -9.604622e-26  1.302979e-19 -0.000034 -0.000007  49.292099   \n",
       "1  1.119572e-24  3.881272e-25  1.302565e-19 -0.000041  0.000019  49.292115   \n",
       "2  1.093419e-24 -1.290899e-25  1.302164e-19 -0.000032 -0.000007  49.292133   \n",
       "3  1.187010e-24 -1.562527e-25  1.301782e-19 -0.000034 -0.000010  49.292151   \n",
       "4  1.206306e-24 -1.290574e-25  1.301406e-19 -0.000035 -0.000011  49.292168   \n",
       "\n",
       "     beta_x    beta_y    current           e_x           e_y    slice_z  \\\n",
       "0  0.235018  0.655127   4.635644  1.390731e-07  1.365778e-07  49.292098   \n",
       "1  0.180635  0.827244   5.751632  1.297608e-07  1.489005e-07  49.292115   \n",
       "2  0.106912  0.409024  10.387276  2.116124e-07  1.782308e-07  49.292133   \n",
       "3  0.071391  0.316972  12.619253  1.981626e-07  1.770423e-07  49.292150   \n",
       "4  0.080260  0.435046  13.306015  1.717004e-07  1.798360e-07  49.292168   \n",
       "\n",
       "         std_px        std_py        std_pz     std_x     std_y     std_z  \\\n",
       "0  6.944301e-25  3.385691e-24  1.315555e-23  0.000109  0.000180  0.000005   \n",
       "1  8.234089e-25  3.774013e-24  1.259130e-23  0.000092  0.000211  0.000005   \n",
       "2  9.638639e-25  2.905490e-24  1.109932e-23  0.000090  0.000162  0.000005   \n",
       "3  1.076412e-24  2.479309e-24  1.108139e-23  0.000071  0.000142  0.000005   \n",
       "4  1.242799e-24  2.735644e-24  1.122382e-23  0.000071  0.000168  0.000005   \n",
       "\n",
       "       z_pos  \n",
       "0  49.292098  \n",
       "1  49.292115  \n",
       "2  49.292133  \n",
       "3  49.292150  \n",
       "4  49.292168  "
      ]
     },
     "execution_count": 6,
     "metadata": {},
     "output_type": "execute_result"
    }
   ],
   "source": [
    "stats = pt.Statistics(filepath)\n",
    "\n",
    "#preparing the statistics\n",
    "stats.slice(100)\n",
    "stats.calc_emittance()\n",
    "stats.calc_CoM()\n",
    "stats.calc_current()\n",
    "\n",
    "#display pandas example\n",
    "panda_stats = stats.StatsFrame()\n",
    "panda_stats[0:5]"
   ]
  },
  {
   "cell_type": "code",
   "execution_count": 7,
   "metadata": {
    "collapsed": false
   },
   "outputs": [
    {
     "data": {
      "image/png": "[encoded data removed]",
      "text/plain": [
       "<matplotlib.figure.Figure at 0x7f3be691fa90>"
      ]
     },
     "metadata": {},
     "output_type": "display_data"
    }
   ],
   "source": [
    "ax = panda_stats.plot(x='z_pos',y='CoM_y')\n",
    "panda_stats.plot(ax=ax, x='z_pos',y='std_y',c='b') #first option allows shared axes\n",
    "\n",
    "plt.show()\n"
   ]
  },
  {
   "cell_type": "markdown",
   "metadata": {
    "collapsed": true
   },
   "source": [
    "And finally there is the FEL_Approximations which calculate simple FEL properties per slice. This is a subclass of statistics and as such every method described above is callable.\n",
    "\n",
    "This class conatins the 'undulator' function that calculates planar undulator parameters given a period and either a peak magnetic field or K value.\n",
    "\n",
    "The data must be sliced and most statistics have to be run before the other calculations can take place.\n",
    "These are 'pierce' which calculates the pierce parameter and 1D gain length for a given slice, 'gain length' which calculates the Ming Xie gain and returns three entries in the dict 'MX_gain', '1D_gain', 'pierce', which hold an array for these values per slice. \n",
    "'FELFrame' returns a pandas dataframe with these and 'z_pos' for reference.\n",
    "\n",
    "To make this easier, the class ProcessedData takes a filepath, number of slcies, undulator period, magnetic field or K and performs all the necessary steps automatically. As this is a subclass of FEL_Approximations all the values written above are accessible from here."
   ]
  },
  {
   "cell_type": "code",
   "execution_count": 8,
   "metadata": {
    "collapsed": false
   },
   "outputs": [
    {
     "data": {
      "text/html": [
       "<div>\n",
       "<style>\n",
       "    .dataframe thead tr:only-child th {\n",
       "        text-align: right;\n",
       "    }\n",
       "\n",
       "    .dataframe thead th {\n",
       "        text-align: left;\n",
       "    }\n",
       "\n",
       "    .dataframe tbody tr th {\n",
       "        vertical-align: top;\n",
       "    }\n",
       "</style>\n",
       "<table border=\"1\" class=\"dataframe\">\n",
       "  <thead>\n",
       "    <tr style=\"text-align: right;\">\n",
       "      <th></th>\n",
       "      <th>1D_gain</th>\n",
       "      <th>MX_gain</th>\n",
       "      <th>pierce</th>\n",
       "      <th>z_pos</th>\n",
       "    </tr>\n",
       "  </thead>\n",
       "  <tbody>\n",
       "    <tr>\n",
       "      <th>0</th>\n",
       "      <td>0.663068</td>\n",
       "      <td>2.806309e+07</td>\n",
       "      <td>0.000191</td>\n",
       "      <td>49.292098</td>\n",
       "    </tr>\n",
       "    <tr>\n",
       "      <th>1</th>\n",
       "      <td>0.615747</td>\n",
       "      <td>4.773164e+07</td>\n",
       "      <td>0.000205</td>\n",
       "      <td>49.292115</td>\n",
       "    </tr>\n",
       "    <tr>\n",
       "      <th>2</th>\n",
       "      <td>0.460577</td>\n",
       "      <td>2.203503e+08</td>\n",
       "      <td>0.000274</td>\n",
       "      <td>49.292133</td>\n",
       "    </tr>\n",
       "    <tr>\n",
       "      <th>3</th>\n",
       "      <td>0.382122</td>\n",
       "      <td>3.744164e+08</td>\n",
       "      <td>0.000331</td>\n",
       "      <td>49.292150</td>\n",
       "    </tr>\n",
       "    <tr>\n",
       "      <th>4</th>\n",
       "      <td>0.395079</td>\n",
       "      <td>2.084933e+08</td>\n",
       "      <td>0.000320</td>\n",
       "      <td>49.292168</td>\n",
       "    </tr>\n",
       "  </tbody>\n",
       "</table>\n",
       "</div>"
      ],
      "text/plain": [
       "    1D_gain       MX_gain    pierce      z_pos\n",
       "0  0.663068  2.806309e+07  0.000191  49.292098\n",
       "1  0.615747  4.773164e+07  0.000205  49.292115\n",
       "2  0.460577  2.203503e+08  0.000274  49.292133\n",
       "3  0.382122  3.744164e+08  0.000331  49.292150\n",
       "4  0.395079  2.084933e+08  0.000320  49.292168"
      ]
     },
     "execution_count": 8,
     "metadata": {},
     "output_type": "execute_result"
    }
   ],
   "source": [
    "FEL = pt.ProcessedData(filepath,num_slices=100,undulator_period=0.00275,k_fact=2.7)\n",
    "\n",
    "panda_FEL = FEL.FELFrame()\n",
    "panda_stats= FEL.StatsFrame()\n",
    "panda_FEL[0:5]"
   ]
  },
  {
   "cell_type": "markdown",
   "metadata": {},
   "source": [
    "If it is important to plot the statistical data alongside the FEL data, that can be easily achieved by concatinating the two sets as shown below"
   ]
  },
  {
   "cell_type": "code",
   "execution_count": 9,
   "metadata": {
    "collapsed": false
   },
   "outputs": [
    {
     "data": {
      "image/png": "[encoded data removed]",
      "text/plain": [
       "<matplotlib.figure.Figure at 0x7f3be9ac7f50>"
      ]
     },
     "metadata": {},
     "output_type": "display_data"
    }
   ],
   "source": [
    "import pandas as pd\n",
    "\n",
    "cat = pd.concat([panda_FEL,panda_stats], axis=1, join_axes=[panda_FEL.index]) #joins the two if you need to plot\n",
    "#FEL parameters as well as slicel statistics on the same plot\n",
    "cat['1D_gain']=cat['1D_gain']*40000000000 #one can scale to allow for visual comparison if needed\n",
    "az = cat.plot(x='z_pos',y='1D_gain')\n",
    "cat.plot(ax=az, x='z_pos',y='MX_gain',c='b')\n",
    "plt.show()\n"
   ]
  },
  {
   "cell_type": "code",
   "execution_count": null,
   "metadata": {
    "collapsed": true
   },
   "outputs": [],
   "source": []
  },
  {
   "cell_type": "code",
   "execution_count": null,
   "metadata": {
    "collapsed": true
   },
   "outputs": [],
   "source": []
  }
 ],
 "metadata": {
  "celltoolbar": "Raw Cell Format",
  "kernelspec": {
   "display_name": "Python [Root]",
   "language": "python",
   "name": "Python [Root]"
  },
  "language_info": {
   "codemirror_mode": {
    "name": "ipython",
    "version": 2
   },
   "file_extension": ".py",
   "mimetype": "text/x-python",
   "name": "python",
   "nbconvert_exporter": "python",
   "pygments_lexer": "ipython2",
   "version": "2.7.13"
  }
 },
 "nbformat": 4,
 "nbformat_minor": 2
}
