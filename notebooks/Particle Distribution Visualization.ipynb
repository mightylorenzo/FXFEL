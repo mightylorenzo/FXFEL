{
 "cells": [
  {
   "cell_type": "markdown",
   "metadata": {},
   "source": [
    "First, import the processing tools that contain classes and methods to read, plot and process standard unit particle distribution files. "
   ]
  },
  {
   "cell_type": "code",
   "execution_count": 1,
   "metadata": {
    "collapsed": true
   },
   "outputs": [],
   "source": [
    "from accsviz import processing_tools as pt\n"
   ]
  },
  {
   "cell_type": "markdown",
   "metadata": {},
   "source": [
    "The module consists of a class 'ParticleDistribution' that initializes to a dictionary containing the following entries given a filepath:\n",
    "\n",
    "|key | value     |\n",
    "|----|-----------|\n",
    "|'x' | x position|\n",
    "|'y' | y position|\n",
    "|'z' | z position|\n",
    "|'px'| x momentum / (mc)|\n",
    "|'py'| y momentum / (mc)|\n",
    "|'pz'| z momentum / (mc)|\n",
    "|'NE'| number of electrons per macroparticle|\n",
    "\n",
    "The units are in line with the Standard Unit specifications, but can be converted to SI by calling the class method SU2SI\n",
    "\n",
    "Values can then be called by calling the 'dict':"
   ]
  },
  {
   "cell_type": "code",
   "execution_count": 2,
   "metadata": {},
   "outputs": [
    {
     "data": {
      "text/plain": [
       "array([ -1.72100489e-07,  -9.50291298e-08,  -1.04835466e-07, ...,\n",
       "        -4.73246274e-07,  -3.99846499e-07,  -3.80443790e-07])"
      ]
     },
     "execution_count": 2,
     "metadata": {},
     "output_type": "execute_result"
    }
   ],
   "source": [
    "filepath = 'test.h5'\n",
    "\n",
    "data = pt.ParticleDistribution(filepath)\n",
    "data.su2si\n",
    "data.dict['x']"
   ]
  },
  {
   "cell_type": "markdown",
   "metadata": {},
   "source": [
    "Alternatively one can ask for a pandas dataframe where each column is one of the above properties of a macroparticle per row."
   ]
  },
  {
   "cell_type": "code",
   "execution_count": 3,
   "metadata": {},
   "outputs": [
    {
     "data": {
      "text/html": [
       "<div>\n",
       "<style>\n",
       "    .dataframe thead tr:only-child th {\n",
       "        text-align: right;\n",
       "    }\n",
       "\n",
       "    .dataframe thead th {\n",
       "        text-align: left;\n",
       "    }\n",
       "\n",
       "    .dataframe tbody tr th {\n",
       "        vertical-align: top;\n",
       "    }\n",
       "</style>\n",
       "<table border=\"1\" class=\"dataframe\">\n",
       "  <thead>\n",
       "    <tr style=\"text-align: right;\">\n",
       "      <th></th>\n",
       "      <th>NE</th>\n",
       "      <th>px</th>\n",
       "      <th>py</th>\n",
       "      <th>pz</th>\n",
       "      <th>x</th>\n",
       "      <th>y</th>\n",
       "      <th>z</th>\n",
       "    </tr>\n",
       "  </thead>\n",
       "  <tbody>\n",
       "    <tr>\n",
       "      <th>0</th>\n",
       "      <td>64068.430948</td>\n",
       "      <td>-18.627145</td>\n",
       "      <td>-0.416907</td>\n",
       "      <td>1225.633777</td>\n",
       "      <td>-1.721005e-07</td>\n",
       "      <td>-9.572705e-08</td>\n",
       "      <td>0.003949</td>\n",
       "    </tr>\n",
       "    <tr>\n",
       "      <th>1</th>\n",
       "      <td>61795.493265</td>\n",
       "      <td>-18.533266</td>\n",
       "      <td>-0.471510</td>\n",
       "      <td>1237.539467</td>\n",
       "      <td>-9.502913e-08</td>\n",
       "      <td>-4.577771e-08</td>\n",
       "      <td>0.003949</td>\n",
       "    </tr>\n",
       "    <tr>\n",
       "      <th>2</th>\n",
       "      <td>61227.258844</td>\n",
       "      <td>-18.548507</td>\n",
       "      <td>-0.681491</td>\n",
       "      <td>1238.965140</td>\n",
       "      <td>-1.048355e-07</td>\n",
       "      <td>1.863554e-07</td>\n",
       "      <td>0.003949</td>\n",
       "    </tr>\n",
       "    <tr>\n",
       "      <th>3</th>\n",
       "      <td>62647.844896</td>\n",
       "      <td>-18.186777</td>\n",
       "      <td>-0.322523</td>\n",
       "      <td>1224.054824</td>\n",
       "      <td>-2.002849e-09</td>\n",
       "      <td>-1.431055e-07</td>\n",
       "      <td>0.003949</td>\n",
       "    </tr>\n",
       "    <tr>\n",
       "      <th>4</th>\n",
       "      <td>64352.548159</td>\n",
       "      <td>-17.646705</td>\n",
       "      <td>-0.568822</td>\n",
       "      <td>1232.700887</td>\n",
       "      <td>1.994884e-07</td>\n",
       "      <td>8.164848e-08</td>\n",
       "      <td>0.003949</td>\n",
       "    </tr>\n",
       "  </tbody>\n",
       "</table>\n",
       "</div>"
      ],
      "text/plain": [
       "             NE         px        py           pz             x             y  \\\n",
       "0  64068.430948 -18.627145 -0.416907  1225.633777 -1.721005e-07 -9.572705e-08   \n",
       "1  61795.493265 -18.533266 -0.471510  1237.539467 -9.502913e-08 -4.577771e-08   \n",
       "2  61227.258844 -18.548507 -0.681491  1238.965140 -1.048355e-07  1.863554e-07   \n",
       "3  62647.844896 -18.186777 -0.322523  1224.054824 -2.002849e-09 -1.431055e-07   \n",
       "4  64352.548159 -17.646705 -0.568822  1232.700887  1.994884e-07  8.164848e-08   \n",
       "\n",
       "          z  \n",
       "0  0.003949  \n",
       "1  0.003949  \n",
       "2  0.003949  \n",
       "3  0.003949  \n",
       "4  0.003949  "
      ]
     },
     "execution_count": 3,
     "metadata": {},
     "output_type": "execute_result"
    }
   ],
   "source": [
    "panda_data = data.DistFrame()\n",
    "panda_data[0:5]"
   ]
  },
  {
   "cell_type": "markdown",
   "metadata": {},
   "source": [
    "This allows for quick plotting using the inbuilt pandas methods"
   ]
  },
  {
   "cell_type": "code",
   "execution_count": 4,
   "metadata": {},
   "outputs": [
    {
     "data": {
      "image/png": "[encoded data removed]",
      "text/plain": [
       "<matplotlib.figure.Figure at 0xc859f98>"
      ]
     },
     "metadata": {},
     "output_type": "display_data"
    }
   ],
   "source": [
    "import matplotlib.pyplot as plt\n",
    "import matplotlib\n",
    "matplotlib.style.use('ggplot') #optional\n",
    "\n",
    "x_axis = 'py'\n",
    "y_axis = 'px'\n",
    "\n",
    "\n",
    "plot = panda_data.plot(kind='scatter',x=x_axis,y=y_axis)\n",
    "#sets axis limits  \n",
    "plot.set_xlim([panda_data[x_axis].min(),panda_data[x_axis].max()])\n",
    "plot.set_ylim([panda_data[y_axis].min(),panda_data[y_axis].max()])\n",
    "plt.show(plot)"
   ]
  },
  {
   "cell_type": "markdown",
   "metadata": {},
   "source": [
    "If further statistical analysis is required, the class 'Statistics' is provided. This contains methods to process standard properties of the electron bunch. This is called by giving a filepath to 'Statistics' The following operations can be performed:\n",
    "\n",
    "| Function            | Effect and dict keys                                                                                                     |\n",
    "|---------------------|-------------------------------------------------------------------------------------------------------------------------------|\n",
    "| calc_emittance | Calculates the emittance of all the slices, accessible by 'e_x' and 'e_y'                                                     |\n",
    "| calc_CoM                 | Calculates the weighed averages and standard deviations per slice of every parameter and beta functions, see below for keys.  |\n",
    "| calc_current         | Calculates current per slice, accessible in the dict as 'current'.                                                       |\n",
    "|slice | Slices the data in equal slices of an integer number. |\n",
    "\n",
    "This is a subclass of the ParticleDistribution and all the methods previously described work.\n",
    "\n",
    "\n",
    "| CoM Keys                | Parameter (per slice)                                      |\n",
    "|------------------------|------------------------------------------------------------|\n",
    "| CoM_x, CoM_y, CoM_z    | Centre of mass of x, y, z positions                        |\n",
    "| std_x, std_y, std_z    | Standard deviation of x, y, z positions                    |\n",
    "| CoM_px, CoM_py, CoM_pz | Centre of mass of x, y, z momenta                          |\n",
    "| std_px, std_py, std_pz | Standard deviation of x, y, z momenta                      |\n",
    "| beta_x, beta_y         | Beta functions (assuming Gaussian distribution) in x and y |\n",
    "\n",
    "\n",
    "Furthermore, there is a 'Step_Z' which returns the size of a slice as well as 'z_pos' which gives you central position of a given slice.\n",
    "\n",
    "And from this class both the DistFrame (containing the same data as above) and StatsFrame can be called:"
   ]
  },
  {
   "cell_type": "code",
   "execution_count": 13,
   "metadata": {
    "scrolled": false
   },
   "outputs": [
    {
     "data": {
      "text/html": [
       "<div>\n",
       "<style>\n",
       "    .dataframe thead tr:only-child th {\n",
       "        text-align: right;\n",
       "    }\n",
       "\n",
       "    .dataframe thead th {\n",
       "        text-align: left;\n",
       "    }\n",
       "\n",
       "    .dataframe tbody tr th {\n",
       "        vertical-align: top;\n",
       "    }\n",
       "</style>\n",
       "<table border=\"1\" class=\"dataframe\">\n",
       "  <thead>\n",
       "    <tr style=\"text-align: right;\">\n",
       "      <th></th>\n",
       "      <th>CoM_px</th>\n",
       "      <th>CoM_py</th>\n",
       "      <th>CoM_pz</th>\n",
       "      <th>CoM_x</th>\n",
       "      <th>CoM_y</th>\n",
       "      <th>CoM_z</th>\n",
       "      <th>beta_x</th>\n",
       "      <th>beta_y</th>\n",
       "      <th>current</th>\n",
       "      <th>e_x</th>\n",
       "      <th>e_y</th>\n",
       "      <th>slice_z</th>\n",
       "      <th>std_px</th>\n",
       "      <th>std_py</th>\n",
       "      <th>std_pz</th>\n",
       "      <th>std_x</th>\n",
       "      <th>std_y</th>\n",
       "      <th>std_z</th>\n",
       "      <th>z_pos</th>\n",
       "    </tr>\n",
       "  </thead>\n",
       "  <tbody>\n",
       "    <tr>\n",
       "      <th>0</th>\n",
       "      <td>-16.153450</td>\n",
       "      <td>-0.331243</td>\n",
       "      <td>1296.492629</td>\n",
       "      <td>-3.022924e-07</td>\n",
       "      <td>-8.712467e-08</td>\n",
       "      <td>0.003949</td>\n",
       "      <td>0.000306</td>\n",
       "      <td>0.000263</td>\n",
       "      <td>38639.255270</td>\n",
       "      <td>3.782731e-09</td>\n",
       "      <td>3.152311e-10</td>\n",
       "      <td>0.003949</td>\n",
       "      <td>4.648233</td>\n",
       "      <td>1.481205</td>\n",
       "      <td>45.424195</td>\n",
       "      <td>1.075720e-06</td>\n",
       "      <td>2.879208e-07</td>\n",
       "      <td>1.517542e-08</td>\n",
       "      <td>0.003949</td>\n",
       "    </tr>\n",
       "    <tr>\n",
       "      <th>1</th>\n",
       "      <td>-15.324839</td>\n",
       "      <td>-0.281843</td>\n",
       "      <td>1391.914077</td>\n",
       "      <td>-1.765145e-06</td>\n",
       "      <td>-7.849858e-08</td>\n",
       "      <td>0.003949</td>\n",
       "      <td>0.000345</td>\n",
       "      <td>0.000419</td>\n",
       "      <td>4024.496617</td>\n",
       "      <td>6.948342e-09</td>\n",
       "      <td>4.169667e-10</td>\n",
       "      <td>0.003949</td>\n",
       "      <td>6.076607</td>\n",
       "      <td>1.713782</td>\n",
       "      <td>33.303398</td>\n",
       "      <td>1.547243e-06</td>\n",
       "      <td>4.178007e-07</td>\n",
       "      <td>8.918255e-09</td>\n",
       "      <td>0.003949</td>\n",
       "    </tr>\n",
       "    <tr>\n",
       "      <th>2</th>\n",
       "      <td>0.000000</td>\n",
       "      <td>0.000000</td>\n",
       "      <td>0.000000</td>\n",
       "      <td>0.000000e+00</td>\n",
       "      <td>0.000000e+00</td>\n",
       "      <td>0.000000</td>\n",
       "      <td>0.000000</td>\n",
       "      <td>0.000000</td>\n",
       "      <td>0.000000</td>\n",
       "      <td>0.000000e+00</td>\n",
       "      <td>0.000000e+00</td>\n",
       "      <td>0.003949</td>\n",
       "      <td>0.000000</td>\n",
       "      <td>0.000000</td>\n",
       "      <td>0.000000</td>\n",
       "      <td>0.000000e+00</td>\n",
       "      <td>0.000000e+00</td>\n",
       "      <td>0.000000e+00</td>\n",
       "      <td>0.003949</td>\n",
       "    </tr>\n",
       "    <tr>\n",
       "      <th>3</th>\n",
       "      <td>-17.449032</td>\n",
       "      <td>-1.309179</td>\n",
       "      <td>1676.492728</td>\n",
       "      <td>-2.146026e-06</td>\n",
       "      <td>-4.243170e-07</td>\n",
       "      <td>0.003949</td>\n",
       "      <td>0.000000</td>\n",
       "      <td>0.000000</td>\n",
       "      <td>41.995985</td>\n",
       "      <td>0.000000e+00</td>\n",
       "      <td>0.000000e+00</td>\n",
       "      <td>0.003949</td>\n",
       "      <td>0.000000</td>\n",
       "      <td>0.000000</td>\n",
       "      <td>0.000000</td>\n",
       "      <td>0.000000e+00</td>\n",
       "      <td>0.000000e+00</td>\n",
       "      <td>0.000000e+00</td>\n",
       "      <td>0.003949</td>\n",
       "    </tr>\n",
       "    <tr>\n",
       "      <th>4</th>\n",
       "      <td>-22.821919</td>\n",
       "      <td>1.121478</td>\n",
       "      <td>1934.946914</td>\n",
       "      <td>-2.216768e-06</td>\n",
       "      <td>-2.692956e-07</td>\n",
       "      <td>0.003949</td>\n",
       "      <td>0.000000</td>\n",
       "      <td>232.447685</td>\n",
       "      <td>86.025674</td>\n",
       "      <td>0.000000e+00</td>\n",
       "      <td>9.813078e-18</td>\n",
       "      <td>0.003949</td>\n",
       "      <td>7.519009</td>\n",
       "      <td>4.730939</td>\n",
       "      <td>17.886367</td>\n",
       "      <td>5.823542e-07</td>\n",
       "      <td>4.776010e-08</td>\n",
       "      <td>3.783698e-09</td>\n",
       "      <td>0.003949</td>\n",
       "    </tr>\n",
       "  </tbody>\n",
       "</table>\n",
       "</div>"
      ],
      "text/plain": [
       "      CoM_px    CoM_py       CoM_pz         CoM_x         CoM_y     CoM_z  \\\n",
       "0 -16.153450 -0.331243  1296.492629 -3.022924e-07 -8.712467e-08  0.003949   \n",
       "1 -15.324839 -0.281843  1391.914077 -1.765145e-06 -7.849858e-08  0.003949   \n",
       "2   0.000000  0.000000     0.000000  0.000000e+00  0.000000e+00  0.000000   \n",
       "3 -17.449032 -1.309179  1676.492728 -2.146026e-06 -4.243170e-07  0.003949   \n",
       "4 -22.821919  1.121478  1934.946914 -2.216768e-06 -2.692956e-07  0.003949   \n",
       "\n",
       "     beta_x      beta_y       current           e_x           e_y   slice_z  \\\n",
       "0  0.000306    0.000263  38639.255270  3.782731e-09  3.152311e-10  0.003949   \n",
       "1  0.000345    0.000419   4024.496617  6.948342e-09  4.169667e-10  0.003949   \n",
       "2  0.000000    0.000000      0.000000  0.000000e+00  0.000000e+00  0.003949   \n",
       "3  0.000000    0.000000     41.995985  0.000000e+00  0.000000e+00  0.003949   \n",
       "4  0.000000  232.447685     86.025674  0.000000e+00  9.813078e-18  0.003949   \n",
       "\n",
       "     std_px    std_py     std_pz         std_x         std_y         std_z  \\\n",
       "0  4.648233  1.481205  45.424195  1.075720e-06  2.879208e-07  1.517542e-08   \n",
       "1  6.076607  1.713782  33.303398  1.547243e-06  4.178007e-07  8.918255e-09   \n",
       "2  0.000000  0.000000   0.000000  0.000000e+00  0.000000e+00  0.000000e+00   \n",
       "3  0.000000  0.000000   0.000000  0.000000e+00  0.000000e+00  0.000000e+00   \n",
       "4  7.519009  4.730939  17.886367  5.823542e-07  4.776010e-08  3.783698e-09   \n",
       "\n",
       "      z_pos  \n",
       "0  0.003949  \n",
       "1  0.003949  \n",
       "2  0.003949  \n",
       "3  0.003949  \n",
       "4  0.003949  "
      ]
     },
     "execution_count": 13,
     "metadata": {},
     "output_type": "execute_result"
    }
   ],
   "source": [
    "stats = pt.Statistics(filepath)\n",
    "\n",
    "#preparing the statistics\n",
    "stats.slice(100)\n",
    "stats.calc_emittance()\n",
    "stats.calc_CoM()\n",
    "stats.calc_current()\n",
    "\n",
    "#display pandas example\n",
    "panda_stats = stats.StatsFrame()\n",
    "panda_stats[0:5]"
   ]
  },
  {
   "cell_type": "code",
   "execution_count": 14,
   "metadata": {},
   "outputs": [
    {
     "data": {
      "image/png": "[encoded data removed]",
      "text/plain": [
       "<matplotlib.figure.Figure at 0xce97fd0>"
      ]
     },
     "metadata": {},
     "output_type": "display_data"
    }
   ],
   "source": [
    "ax = panda_stats.plot(x='z_pos',y='CoM_y')\n",
    "panda_stats.plot(ax=ax, x='z_pos',y='std_y',c='b') #first option allows shared axes\n",
    "\n",
    "plt.show()\n"
   ]
  },
  {
   "cell_type": "markdown",
   "metadata": {
    "collapsed": true
   },
   "source": [
    "And finally there is the FEL_Approximations which calculate simple FEL properties per slice. This is a subclass of statistics and as such every method described above is callable.\n",
    "\n",
    "This class conatins the 'undulator' function that calculates planar undulator parameters given a period and either a peak magnetic field or K value.\n",
    "\n",
    "The data must be sliced and most statistics have to be run before the other calculations can take place.\n",
    "These are 'pierce' which calculates the pierce parameter and 1D gain length for a given slice, 'gain length' which calculates the Ming Xie gain and returns three entries in the dict 'MX_gain', '1D_gain', 'pierce', which hold an array for these values per slice. \n",
    "'FELFrame' returns a pandas dataframe with these and 'z_pos' for reference.\n",
    "\n",
    "To make this easier, the class ProcessedData takes a filepath, number of slcies, undulator period, magnetic field or K and performs all the necessary steps automatically. As this is a subclass of FEL_Approximations all the values written above are accessible from here."
   ]
  },
  {
   "cell_type": "code",
   "execution_count": 16,
   "metadata": {
    "scrolled": true
   },
   "outputs": [
    {
     "data": {
      "text/html": [
       "<div>\n",
       "<style>\n",
       "    .dataframe thead tr:only-child th {\n",
       "        text-align: right;\n",
       "    }\n",
       "\n",
       "    .dataframe thead th {\n",
       "        text-align: left;\n",
       "    }\n",
       "\n",
       "    .dataframe tbody tr th {\n",
       "        vertical-align: top;\n",
       "    }\n",
       "</style>\n",
       "<table border=\"1\" class=\"dataframe\">\n",
       "  <thead>\n",
       "    <tr style=\"text-align: right;\">\n",
       "      <th></th>\n",
       "      <th>1D_gain</th>\n",
       "      <th>MX_gain</th>\n",
       "      <th>pierce</th>\n",
       "      <th>z_pos</th>\n",
       "    </tr>\n",
       "  </thead>\n",
       "  <tbody>\n",
       "    <tr>\n",
       "      <th>0</th>\n",
       "      <td>0.007698</td>\n",
       "      <td>0.026014</td>\n",
       "      <td>0.164119</td>\n",
       "      <td>0.003949</td>\n",
       "    </tr>\n",
       "    <tr>\n",
       "      <th>1</th>\n",
       "      <td>0.020910</td>\n",
       "      <td>0.906967</td>\n",
       "      <td>0.060423</td>\n",
       "      <td>0.003949</td>\n",
       "    </tr>\n",
       "    <tr>\n",
       "      <th>2</th>\n",
       "      <td>NaN</td>\n",
       "      <td>NaN</td>\n",
       "      <td>NaN</td>\n",
       "      <td>0.003949</td>\n",
       "    </tr>\n",
       "    <tr>\n",
       "      <th>3</th>\n",
       "      <td>0.000000</td>\n",
       "      <td>NaN</td>\n",
       "      <td>inf</td>\n",
       "      <td>0.003949</td>\n",
       "    </tr>\n",
       "    <tr>\n",
       "      <th>4</th>\n",
       "      <td>0.026402</td>\n",
       "      <td>NaN</td>\n",
       "      <td>0.047856</td>\n",
       "      <td>0.003949</td>\n",
       "    </tr>\n",
       "  </tbody>\n",
       "</table>\n",
       "</div>"
      ],
      "text/plain": [
       "    1D_gain   MX_gain    pierce     z_pos\n",
       "0  0.007698  0.026014  0.164119  0.003949\n",
       "1  0.020910  0.906967  0.060423  0.003949\n",
       "2       NaN       NaN       NaN  0.003949\n",
       "3  0.000000       NaN       inf  0.003949\n",
       "4  0.026402       NaN  0.047856  0.003949"
      ]
     },
     "execution_count": 16,
     "metadata": {},
     "output_type": "execute_result"
    }
   ],
   "source": [
    "FEL = pt.ProcessedData(filepath,num_slices=100,undulator_period=0.0275,k_fact=2.7)\n",
    "\n",
    "panda_FEL = FEL.FELFrame()\n",
    "panda_stats= FEL.StatsFrame()\n",
    "panda_FEL[0:5]"
   ]
  },
  {
   "cell_type": "markdown",
   "metadata": {},
   "source": [
    "If it is important to plot the statistical data alongside the FEL data, that can be easily achieved by concatinating the two sets as shown below"
   ]
  },
  {
   "cell_type": "code",
   "execution_count": 18,
   "metadata": {},
   "outputs": [
    {
     "data": {
      "image/png": "[encoded data removed]",
      "text/plain": [
       "<matplotlib.figure.Figure at 0x180f9f60>"
      ]
     },
     "metadata": {},
     "output_type": "display_data"
    }
   ],
   "source": [
    "import pandas as pd\n",
    "\n",
    "cat = pd.concat([panda_FEL,panda_stats], axis=1, join_axes=[panda_FEL.index]) #joins the two if you need to plot\n",
    "#FEL parameters as well as slicel statistics on the same plot\n",
    "cat['1D_gain']=cat['1D_gain'] # *40000000000 #one can scale to allow for visual comparison if needed\n",
    "az = cat.plot(x='z_pos',y='1D_gain')\n",
    "cat.plot(ax=az, x='z_pos',y='MX_gain',c='b')\n",
    "plt.show()\n"
   ]
  },
  {
   "cell_type": "code",
   "execution_count": null,
   "metadata": {
    "collapsed": true
   },
   "outputs": [],
   "source": []
  },
  {
   "cell_type": "code",
   "execution_count": null,
   "metadata": {
    "collapsed": true
   },
   "outputs": [],
   "source": []
  }
 ],
 "metadata": {
  "celltoolbar": "Raw Cell Format",
  "kernelspec": {
   "display_name": "Python 2",
   "language": "python",
   "name": "python2"
  },
  "language_info": {
   "codemirror_mode": {
    "name": "ipython",
    "version": 2
   },
   "file_extension": ".py",
   "mimetype": "text/x-python",
   "name": "python",
   "nbconvert_exporter": "python",
   "pygments_lexer": "ipython2",
   "version": "2.7.14"
  }
 },
 "nbformat": 4,
 "nbformat_minor": 2
}
