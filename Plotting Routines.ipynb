{
 "cells": [
  {
   "cell_type": "markdown",
   "metadata": {},
   "source": [
    "## Plotting ##\n",
    "Using Bokeh it is possible to display all the plots in an interactive fashion and this library provides a simple way to generate a large number of default plots per file and also allows for plotting any combination of parameters. It is also possible to generate 'interactive' plots that allow you to use a slider to move through the start to end simulation.\n"
   ]
  },
  {
   "cell_type": "code",
   "execution_count": 2,
   "metadata": {},
   "outputs": [
    {
     "name": "stdout",
     "output_type": "stream",
     "text": [
      "Twiss in X are =  0.000211455915533 -0.384199706921\n",
      "Twiss in Y are =  0.000207300358416 0.0132952671413\n"
     ]
    },
    {
     "name": "stderr",
     "output_type": "stream",
     "text": [
      "C:\\Users\\mightylorenzo\\Anaconda2\\lib\\site-packages\\accsviz\\processing_tools.py:187: RuntimeWarning: invalid value encountered in sqrt\n",
      "  self.dict['e_x'][i] = np.sqrt((x_2*px_2)-(xpx*xpx))                        #\n",
      "C:\\Users\\mightylorenzo\\Anaconda2\\lib\\site-packages\\accsviz\\processing_tools.py:31: RuntimeWarning: invalid value encountered in divide\n",
      "  calc = np.divide(calc, emittance)\n",
      "C:\\Users\\mightylorenzo\\Anaconda2\\lib\\site-packages\\accsviz\\processing_tools.py:407: RuntimeWarning: divide by zero encountered in double_scalars\n",
      "  (2*np.pi*self.dict['std_x'][slice_no]*self.dict['std_y'][slice_no])\n",
      "C:\\Users\\mightylorenzo\\Anaconda2\\lib\\site-packages\\accsviz\\FEL_equations.py:102: RuntimeWarning: invalid value encountered in double_scalars\n",
      "  return np.array([gain_length*wavelength/(4*const.pi*transverse_size**2)])\n",
      "C:\\Users\\mightylorenzo\\Anaconda2\\lib\\site-packages\\accsviz\\FEL_equations.py:93: RuntimeWarning: invalid value encountered in power\n",
      "  sp[12]*np.power(nd, sp[13])*np.power(ne, sp[14])+\n",
      "C:\\Users\\mightylorenzo\\Anaconda2\\lib\\site-packages\\accsviz\\FEL_equations.py:94: RuntimeWarning: invalid value encountered in power\n",
      "  sp[15]*np.power(nd, sp[16])*np.power(ne, sp[17])*np.power(ny, sp[18]))\n"
     ]
    }
   ],
   "source": [
    "from accsviz import processing_tools as pt\n",
    "\n",
    "filepath = 'test.h5'\n",
    "\n",
    "FEL = pt.ProcessedData(filepath,num_slices=50,undulator_period=0.0275,k_fact=1.13)"
   ]
  },
  {
   "cell_type": "markdown",
   "metadata": {},
   "source": [
    "The default plots are very easy to call and this can be done by passing a computed object into the plotting class. This is most easily done by using the ProcessedData class directly, as this ensures that all the necessary calculations will have been done. This is not necessary, and the class will allow you to do your own plotting routines on raw data, but the defaults might complain or call processing routines themselves. \n",
    "\n",
    "prepare_defaults() generates a standard set of plots in a dictionary called 'plots' whose keys are generally in the format 'x-axis_y-axis' where the axes are taken from the directory dictionary of the dataset. But two line plots are hard coded and only show the y axis."
   ]
  },
  {
   "cell_type": "code",
   "execution_count": 3,
   "metadata": {
    "scrolled": false
   },
   "outputs": [],
   "source": [
    "plots = pt.Bokeh_Plotting(FEL)  #to save pngs you need 'npm install -g phantomjs-prebuilt'\n",
    "plots.prepare_defaults(file_name='test')\n",
    "plots.plot_defaults(show_html=True) #show_html=True"
   ]
  },
  {
   "cell_type": "markdown",
   "metadata": {},
   "source": [
    "This generates a filename.html file that can be opened in any browser. For large datasets automatic binning will be implemented so that the raw data scatter plots do not fill up memory or make the file unusable. To create custom plots one can call custom_plot. This will overwrite the files generated above, so it is reccomended that file_name be filled in. Alternatively, don't use the same object to plot defaults and custom plots.\n",
    "\n",
    "The below will create an html file with the single custom plot you have specified - in this case, x vs. y. DO NOT run the below after running the cell immediately above - it seems to not work, something is not being flushed from memory...??"
   ]
  },
  {
   "cell_type": "code",
   "execution_count": null,
   "metadata": {
    "collapsed": true
   },
   "outputs": [],
   "source": [
    "FEL_2 = pt.ProcessedData(filepath,num_slices=100,undulator_period=0.0275,k_fact=1.13)\n",
    "plots_2 = pt.Bokeh_Plotting(FEL_2)\n",
    "a = plots_2.custom_plot('x', 'y', key='', plotter='circle', color='pink',\n",
    "                  file_name='transverse.html', text_color='black',  \n",
    "                      title='Transverse position', save= True)\n",
    "\n"
   ]
  },
  {
   "cell_type": "markdown",
   "metadata": {},
   "source": [
    "By importing the following modules one can show plots within the notebook, or alternatively through ipython"
   ]
  },
  {
   "cell_type": "code",
   "execution_count": null,
   "metadata": {
    "collapsed": true
   },
   "outputs": [],
   "source": [
    "from bokeh.plotting import show\n",
    "from bokeh.io import output_notebook\n",
    "output_notebook()\n",
    "\n",
    "show(a)\n",
    "\n",
    "#from bokeh.io import export_png\n",
    "\n",
    "#export_png(a, filename=\"plot.png\")\n",
    "\n",
    "#from bokeh.plotting import output_file\n",
    "#output_file('test.png')\n"
   ]
  },
  {
   "cell_type": "markdown",
   "metadata": {},
   "source": [
    "##### Interactive Plotting\n",
    "And it is possible to do interactive plotting where you can scan througha simulation - the function takes in a list of filepaths/names and generates a plot which cycles through them. Due to the interactive nature this cannot be saved as a png file, but should aid with visualization. "
   ]
  },
  {
   "cell_type": "code",
   "execution_count": null,
   "metadata": {
    "collapsed": true
   },
   "outputs": [],
   "source": [
    "from accsviz import int_plot as ip\n",
    "filelist = ['./example/noise_10kSI_MASP.h5',\n",
    "             './example/noise_10kSI_MASP.h5',\n",
    "             './example/noise_10kSI_MASP.h5']\n",
    "\n",
    "t = ip.interactive_plot(filelist,'x','y')\n"
   ]
  },
  {
   "cell_type": "code",
   "execution_count": null,
   "metadata": {
    "collapsed": true
   },
   "outputs": [],
   "source": [
    "show(t)"
   ]
  },
  {
   "cell_type": "code",
   "execution_count": null,
   "metadata": {
    "collapsed": true
   },
   "outputs": [],
   "source": [
    "files_2 = ['./example/beam50k_A2S.h5', \n",
    "           './example/beam50k_A2S.h5',\n",
    "           './example/beam50k_A2S.h5']\n",
    "y = ip.interactive_plot(files_2,'z_pos','std_y')\n",
    "show(y)"
   ]
  },
  {
   "cell_type": "markdown",
   "metadata": {
    "collapsed": true
   },
   "source": [
    "##### Plot to PNG\n",
    "And if you want to plot everything to pngs that are held with the file this can also be done by calling Panda_Plotting from Processing_Tools and passing in the Processed_Data objects. prep_plot allows you to either save or show a given plot (choosing False or True on the show parameter respectively) and to chose to plot one or two parameters as either a 'line' or 'scatter' plot. Customs labels are possible."
   ]
  },
  {
   "cell_type": "code",
   "execution_count": null,
   "metadata": {
    "collapsed": true
   },
   "outputs": [],
   "source": [
    "pngs = pt.Panda_Plotting(FEL)\n",
    "pngs.prep_plot(x_axis='x', y_ax_1='y', y_ax_2=False, title=None, kind='scatter',\n",
    "                  log=False, ID=None, x_label=False, y_label=False, show=True)"
   ]
  },
  {
   "cell_type": "markdown",
   "metadata": {},
   "source": [
    "And again, some default plots can be quickly made by calling the function below. This saves pngs with the basefilename+_+x_axis|y_axis.png format in the folder where the file is. "
   ]
  },
  {
   "cell_type": "code",
   "execution_count": null,
   "metadata": {
    "collapsed": true
   },
   "outputs": [],
   "source": [
    "pngs.plot_defaults()"
   ]
  },
  {
   "cell_type": "code",
   "execution_count": null,
   "metadata": {
    "collapsed": true
   },
   "outputs": [],
   "source": []
  }
 ],
 "metadata": {
  "kernelspec": {
   "display_name": "Python 2",
   "language": "python",
   "name": "python2"
  },
  "language_info": {
   "codemirror_mode": {
    "name": "ipython",
    "version": 2
   },
   "file_extension": ".py",
   "mimetype": "text/x-python",
   "name": "python",
   "nbconvert_exporter": "python",
   "pygments_lexer": "ipython2",
   "version": "2.7.14"
  }
 },
 "nbformat": 4,
 "nbformat_minor": 2
}
