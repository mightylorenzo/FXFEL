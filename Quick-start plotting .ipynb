{
 "cells": [
  {
   "cell_type": "markdown",
   "metadata": {},
   "source": [
    "## Plotting routines\n",
    "a selection of plotting routines for easy access"
   ]
  },
  {
   "cell_type": "code",
   "execution_count": 1,
   "metadata": {
    "collapsed": true
   },
   "outputs": [],
   "source": [
    "import file_processor as fp  #contains simple routines for sorting files and making directories\n",
    "import processing_tools as pt #bulk of the processing\n",
    "import int_plot as ip #allows for interactive plots\n"
   ]
  },
  {
   "cell_type": "markdown",
   "metadata": {},
   "source": [
    "#### Plotting entire directories\n",
    "As it is necessary to often plot many files, a script is included that will go through a directory, make a folder for each file (which ends in .h5, but you may specify other endings by the optional parameter 'file_ending' )\n",
    "This plots all the defaults, both in pandas and bokeh and then moves them in said directory."
   ]
  },
  {
   "cell_type": "code",
   "execution_count": 2,
   "metadata": {},
   "outputs": [
    {
     "name": "stdout",
     "output_type": "stream",
     "text": [
      "./example\\*.h5\n"
     ]
    }
   ],
   "source": [
    "directory = './example'\n",
    "fp.plot_defaults(directory, num_slices = 50, file_ending='.h5')\n"
   ]
  },
  {
   "cell_type": "markdown",
   "metadata": {},
   "source": [
    "#### Interactive plots\n",
    "To plot an interactive interface an ordered list of files which follows the path along the simulation must be provided.\n",
    "file_processor has some tools to ease this process. This can plot either any combination of standard distributions or the slice values over a slice."
   ]
  },
  {
   "cell_type": "code",
   "execution_count": 3,
   "metadata": {},
   "outputs": [
    {
     "data": {
      "text/html": [
       "\n",
       "    <div class=\"bk-root\">\n",
       "        <a href=\"https://bokeh.pydata.org\" target=\"_blank\" class=\"bk-logo bk-logo-small bk-logo-notebook\"></a>\n",
       "        <span id=\"4e946df7-1db4-4692-bdd5-472bef352e8b\">Loading BokehJS ...</span>\n",
       "    </div>"
      ]
     },
     "metadata": {},
     "output_type": "display_data"
    },
    {
     "data": {
      "application/javascript": [
       "\n",
       "(function(root) {\n",
       "  function now() {\n",
       "    return new Date();\n",
       "  }\n",
       "\n",
       "  var force = true;\n",
       "\n",
       "  if (typeof (root._bokeh_onload_callbacks) === \"undefined\" || force === true) {\n",
       "    root._bokeh_onload_callbacks = [];\n",
       "    root._bokeh_is_loading = undefined;\n",
       "  }\n",
       "\n",
       "  var JS_MIME_TYPE = 'application/javascript';\n",
       "  var HTML_MIME_TYPE = 'text/html';\n",
       "  var EXEC_MIME_TYPE = 'application/vnd.bokehjs_exec.v0+json';\n",
       "  var CLASS_NAME = 'output_bokeh rendered_html';\n",
       "\n",
       "  /**\n",
       "   * Render data to the DOM node\n",
       "   */\n",
       "  function render(props, node) {\n",
       "    var script = document.createElement(\"script\");\n",
       "    node.appendChild(script);\n",
       "  }\n",
       "\n",
       "  /**\n",
       "   * Handle when an output is cleared or removed\n",
       "   */\n",
       "  function handleClearOutput(event, handle) {\n",
       "    var cell = handle.cell;\n",
       "\n",
       "    var id = cell.output_area._bokeh_element_id;\n",
       "    var server_id = cell.output_area._bokeh_server_id;\n",
       "    // Clean up Bokeh references\n",
       "    if (id !== undefined) {\n",
       "      Bokeh.index[id].model.document.clear();\n",
       "      delete Bokeh.index[id];\n",
       "    }\n",
       "\n",
       "    if (server_id !== undefined) {\n",
       "      // Clean up Bokeh references\n",
       "      var cmd = \"from bokeh.io.state import curstate; print(curstate().uuid_to_server['\" + server_id + \"'].get_sessions()[0].document.roots[0]._id)\";\n",
       "      cell.notebook.kernel.execute(cmd, {\n",
       "        iopub: {\n",
       "          output: function(msg) {\n",
       "            var element_id = msg.content.text.trim();\n",
       "            Bokeh.index[element_id].model.document.clear();\n",
       "            delete Bokeh.index[element_id];\n",
       "          }\n",
       "        }\n",
       "      });\n",
       "      // Destroy server and session\n",
       "      var cmd = \"import bokeh.io.notebook as ion; ion.destroy_server('\" + server_id + \"')\";\n",
       "      cell.notebook.kernel.execute(cmd);\n",
       "    }\n",
       "  }\n",
       "\n",
       "  /**\n",
       "   * Handle when a new output is added\n",
       "   */\n",
       "  function handleAddOutput(event, handle) {\n",
       "    var output_area = handle.output_area;\n",
       "    var output = handle.output;\n",
       "\n",
       "    // limit handleAddOutput to display_data with EXEC_MIME_TYPE content only\n",
       "    if ((output.output_type != \"display_data\") || (!output.data.hasOwnProperty(EXEC_MIME_TYPE))) {\n",
       "      return\n",
       "    }\n",
       "\n",
       "    var toinsert = output_area.element.find(`.${CLASS_NAME.split(' ')[0]}`);\n",
       "\n",
       "    if (output.metadata[EXEC_MIME_TYPE][\"id\"] !== undefined) {\n",
       "      toinsert[0].firstChild.textContent = output.data[JS_MIME_TYPE];\n",
       "      // store reference to embed id on output_area\n",
       "      output_area._bokeh_element_id = output.metadata[EXEC_MIME_TYPE][\"id\"];\n",
       "    }\n",
       "    if (output.metadata[EXEC_MIME_TYPE][\"server_id\"] !== undefined) {\n",
       "      var bk_div = document.createElement(\"div\");\n",
       "      bk_div.innerHTML = output.data[HTML_MIME_TYPE];\n",
       "      var script_attrs = bk_div.children[0].attributes;\n",
       "      for (var i = 0; i < script_attrs.length; i++) {\n",
       "        toinsert[0].firstChild.setAttribute(script_attrs[i].name, script_attrs[i].value);\n",
       "      }\n",
       "      // store reference to server id on output_area\n",
       "      output_area._bokeh_server_id = output.metadata[EXEC_MIME_TYPE][\"server_id\"];\n",
       "    }\n",
       "  }\n",
       "\n",
       "  function register_renderer(events, OutputArea) {\n",
       "\n",
       "    function append_mime(data, metadata, element) {\n",
       "      // create a DOM node to render to\n",
       "      var toinsert = this.create_output_subarea(\n",
       "        metadata,\n",
       "        CLASS_NAME,\n",
       "        EXEC_MIME_TYPE\n",
       "      );\n",
       "      this.keyboard_manager.register_events(toinsert);\n",
       "      // Render to node\n",
       "      var props = {data: data, metadata: metadata[EXEC_MIME_TYPE]};\n",
       "      render(props, toinsert[0]);\n",
       "      element.append(toinsert);\n",
       "      return toinsert\n",
       "    }\n",
       "\n",
       "    /* Handle when an output is cleared or removed */\n",
       "    events.on('clear_output.CodeCell', handleClearOutput);\n",
       "    events.on('delete.Cell', handleClearOutput);\n",
       "\n",
       "    /* Handle when a new output is added */\n",
       "    events.on('output_added.OutputArea', handleAddOutput);\n",
       "\n",
       "    /**\n",
       "     * Register the mime type and append_mime function with output_area\n",
       "     */\n",
       "    OutputArea.prototype.register_mime_type(EXEC_MIME_TYPE, append_mime, {\n",
       "      /* Is output safe? */\n",
       "      safe: true,\n",
       "      /* Index of renderer in `output_area.display_order` */\n",
       "      index: 0\n",
       "    });\n",
       "  }\n",
       "\n",
       "  // register the mime type if in Jupyter Notebook environment and previously unregistered\n",
       "  if (root.Jupyter !== undefined) {\n",
       "    var events = require('base/js/events');\n",
       "    var OutputArea = require('notebook/js/outputarea').OutputArea;\n",
       "\n",
       "    if (OutputArea.prototype.mime_types().indexOf(EXEC_MIME_TYPE) == -1) {\n",
       "      register_renderer(events, OutputArea);\n",
       "    }\n",
       "  }\n",
       "\n",
       "  \n",
       "  if (typeof (root._bokeh_timeout) === \"undefined\" || force === true) {\n",
       "    root._bokeh_timeout = Date.now() + 5000;\n",
       "    root._bokeh_failed_load = false;\n",
       "  }\n",
       "\n",
       "  var NB_LOAD_WARNING = {'data': {'text/html':\n",
       "     \"<div style='background-color: #fdd'>\\n\"+\n",
       "     \"<p>\\n\"+\n",
       "     \"BokehJS does not appear to have successfully loaded. If loading BokehJS from CDN, this \\n\"+\n",
       "     \"may be due to a slow or bad network connection. Possible fixes:\\n\"+\n",
       "     \"</p>\\n\"+\n",
       "     \"<ul>\\n\"+\n",
       "     \"<li>re-rerun `output_notebook()` to attempt to load from CDN again, or</li>\\n\"+\n",
       "     \"<li>use INLINE resources instead, as so:</li>\\n\"+\n",
       "     \"</ul>\\n\"+\n",
       "     \"<code>\\n\"+\n",
       "     \"from bokeh.resources import INLINE\\n\"+\n",
       "     \"output_notebook(resources=INLINE)\\n\"+\n",
       "     \"</code>\\n\"+\n",
       "     \"</div>\"}};\n",
       "\n",
       "  function display_loaded() {\n",
       "    var el = document.getElementById(\"4e946df7-1db4-4692-bdd5-472bef352e8b\");\n",
       "    if (el != null) {\n",
       "      el.textContent = \"BokehJS is loading...\";\n",
       "    }\n",
       "    if (root.Bokeh !== undefined) {\n",
       "      if (el != null) {\n",
       "        el.textContent = \"BokehJS \" + root.Bokeh.version + \" successfully loaded.\";\n",
       "      }\n",
       "    } else if (Date.now() < root._bokeh_timeout) {\n",
       "      setTimeout(display_loaded, 100)\n",
       "    }\n",
       "  }\n",
       "\n",
       "\n",
       "  function run_callbacks() {\n",
       "    try {\n",
       "      root._bokeh_onload_callbacks.forEach(function(callback) { callback() });\n",
       "    }\n",
       "    finally {\n",
       "      delete root._bokeh_onload_callbacks\n",
       "    }\n",
       "    console.info(\"Bokeh: all callbacks have finished\");\n",
       "  }\n",
       "\n",
       "  function load_libs(js_urls, callback) {\n",
       "    root._bokeh_onload_callbacks.push(callback);\n",
       "    if (root._bokeh_is_loading > 0) {\n",
       "      console.log(\"Bokeh: BokehJS is being loaded, scheduling callback at\", now());\n",
       "      return null;\n",
       "    }\n",
       "    if (js_urls == null || js_urls.length === 0) {\n",
       "      run_callbacks();\n",
       "      return null;\n",
       "    }\n",
       "    console.log(\"Bokeh: BokehJS not loaded, scheduling load and callback at\", now());\n",
       "    root._bokeh_is_loading = js_urls.length;\n",
       "    for (var i = 0; i < js_urls.length; i++) {\n",
       "      var url = js_urls[i];\n",
       "      var s = document.createElement('script');\n",
       "      s.src = url;\n",
       "      s.async = false;\n",
       "      s.onreadystatechange = s.onload = function() {\n",
       "        root._bokeh_is_loading--;\n",
       "        if (root._bokeh_is_loading === 0) {\n",
       "          console.log(\"Bokeh: all BokehJS libraries loaded\");\n",
       "          run_callbacks()\n",
       "        }\n",
       "      };\n",
       "      s.onerror = function() {\n",
       "        console.warn(\"failed to load library \" + url);\n",
       "      };\n",
       "      console.log(\"Bokeh: injecting script tag for BokehJS library: \", url);\n",
       "      document.getElementsByTagName(\"head\")[0].appendChild(s);\n",
       "    }\n",
       "  };var element = document.getElementById(\"4e946df7-1db4-4692-bdd5-472bef352e8b\");\n",
       "  if (element == null) {\n",
       "    console.log(\"Bokeh: ERROR: autoload.js configured with elementid '4e946df7-1db4-4692-bdd5-472bef352e8b' but no matching script tag was found. \")\n",
       "    return false;\n",
       "  }\n",
       "\n",
       "  var js_urls = [\"https://cdn.pydata.org/bokeh/release/bokeh-0.12.10.min.js\", \"https://cdn.pydata.org/bokeh/release/bokeh-widgets-0.12.10.min.js\", \"https://cdn.pydata.org/bokeh/release/bokeh-tables-0.12.10.min.js\", \"https://cdn.pydata.org/bokeh/release/bokeh-gl-0.12.10.min.js\"];\n",
       "\n",
       "  var inline_js = [\n",
       "    function(Bokeh) {\n",
       "      Bokeh.set_log_level(\"info\");\n",
       "    },\n",
       "    \n",
       "    function(Bokeh) {\n",
       "      \n",
       "    },\n",
       "    function(Bokeh) {\n",
       "      console.log(\"Bokeh: injecting CSS: https://cdn.pydata.org/bokeh/release/bokeh-0.12.10.min.css\");\n",
       "      Bokeh.embed.inject_css(\"https://cdn.pydata.org/bokeh/release/bokeh-0.12.10.min.css\");\n",
       "      console.log(\"Bokeh: injecting CSS: https://cdn.pydata.org/bokeh/release/bokeh-widgets-0.12.10.min.css\");\n",
       "      Bokeh.embed.inject_css(\"https://cdn.pydata.org/bokeh/release/bokeh-widgets-0.12.10.min.css\");\n",
       "      console.log(\"Bokeh: injecting CSS: https://cdn.pydata.org/bokeh/release/bokeh-tables-0.12.10.min.css\");\n",
       "      Bokeh.embed.inject_css(\"https://cdn.pydata.org/bokeh/release/bokeh-tables-0.12.10.min.css\");\n",
       "    }\n",
       "  ];\n",
       "\n",
       "  function run_inline_js() {\n",
       "    \n",
       "    if ((root.Bokeh !== undefined) || (force === true)) {\n",
       "      for (var i = 0; i < inline_js.length; i++) {\n",
       "        inline_js[i].call(root, root.Bokeh);\n",
       "      }if (force === true) {\n",
       "        display_loaded();\n",
       "      }} else if (Date.now() < root._bokeh_timeout) {\n",
       "      setTimeout(run_inline_js, 100);\n",
       "    } else if (!root._bokeh_failed_load) {\n",
       "      console.log(\"Bokeh: BokehJS failed to load within specified timeout.\");\n",
       "      root._bokeh_failed_load = true;\n",
       "    } else if (force !== true) {\n",
       "      var cell = $(document.getElementById(\"4e946df7-1db4-4692-bdd5-472bef352e8b\")).parents('.cell').data().cell;\n",
       "      cell.output_area.append_execute_result(NB_LOAD_WARNING)\n",
       "    }\n",
       "\n",
       "  }\n",
       "\n",
       "  if (root._bokeh_is_loading === 0) {\n",
       "    console.log(\"Bokeh: BokehJS loaded, going straight to plotting\");\n",
       "    run_inline_js();\n",
       "  } else {\n",
       "    load_libs(js_urls, function() {\n",
       "      console.log(\"Bokeh: BokehJS plotting callback run at\", now());\n",
       "      run_inline_js();\n",
       "    });\n",
       "  }\n",
       "}(window));"
      ],
      "application/vnd.bokehjs_load.v0+json": "\n(function(root) {\n  function now() {\n    return new Date();\n  }\n\n  var force = true;\n\n  if (typeof (root._bokeh_onload_callbacks) === \"undefined\" || force === true) {\n    root._bokeh_onload_callbacks = [];\n    root._bokeh_is_loading = undefined;\n  }\n\n  \n\n  \n  if (typeof (root._bokeh_timeout) === \"undefined\" || force === true) {\n    root._bokeh_timeout = Date.now() + 5000;\n    root._bokeh_failed_load = false;\n  }\n\n  var NB_LOAD_WARNING = {'data': {'text/html':\n     \"<div style='background-color: #fdd'>\\n\"+\n     \"<p>\\n\"+\n     \"BokehJS does not appear to have successfully loaded. If loading BokehJS from CDN, this \\n\"+\n     \"may be due to a slow or bad network connection. Possible fixes:\\n\"+\n     \"</p>\\n\"+\n     \"<ul>\\n\"+\n     \"<li>re-rerun `output_notebook()` to attempt to load from CDN again, or</li>\\n\"+\n     \"<li>use INLINE resources instead, as so:</li>\\n\"+\n     \"</ul>\\n\"+\n     \"<code>\\n\"+\n     \"from bokeh.resources import INLINE\\n\"+\n     \"output_notebook(resources=INLINE)\\n\"+\n     \"</code>\\n\"+\n     \"</div>\"}};\n\n  function display_loaded() {\n    var el = document.getElementById(\"4e946df7-1db4-4692-bdd5-472bef352e8b\");\n    if (el != null) {\n      el.textContent = \"BokehJS is loading...\";\n    }\n    if (root.Bokeh !== undefined) {\n      if (el != null) {\n        el.textContent = \"BokehJS \" + root.Bokeh.version + \" successfully loaded.\";\n      }\n    } else if (Date.now() < root._bokeh_timeout) {\n      setTimeout(display_loaded, 100)\n    }\n  }\n\n\n  function run_callbacks() {\n    try {\n      root._bokeh_onload_callbacks.forEach(function(callback) { callback() });\n    }\n    finally {\n      delete root._bokeh_onload_callbacks\n    }\n    console.info(\"Bokeh: all callbacks have finished\");\n  }\n\n  function load_libs(js_urls, callback) {\n    root._bokeh_onload_callbacks.push(callback);\n    if (root._bokeh_is_loading > 0) {\n      console.log(\"Bokeh: BokehJS is being loaded, scheduling callback at\", now());\n      return null;\n    }\n    if (js_urls == null || js_urls.length === 0) {\n      run_callbacks();\n      return null;\n    }\n    console.log(\"Bokeh: BokehJS not loaded, scheduling load and callback at\", now());\n    root._bokeh_is_loading = js_urls.length;\n    for (var i = 0; i < js_urls.length; i++) {\n      var url = js_urls[i];\n      var s = document.createElement('script');\n      s.src = url;\n      s.async = false;\n      s.onreadystatechange = s.onload = function() {\n        root._bokeh_is_loading--;\n        if (root._bokeh_is_loading === 0) {\n          console.log(\"Bokeh: all BokehJS libraries loaded\");\n          run_callbacks()\n        }\n      };\n      s.onerror = function() {\n        console.warn(\"failed to load library \" + url);\n      };\n      console.log(\"Bokeh: injecting script tag for BokehJS library: \", url);\n      document.getElementsByTagName(\"head\")[0].appendChild(s);\n    }\n  };var element = document.getElementById(\"4e946df7-1db4-4692-bdd5-472bef352e8b\");\n  if (element == null) {\n    console.log(\"Bokeh: ERROR: autoload.js configured with elementid '4e946df7-1db4-4692-bdd5-472bef352e8b' but no matching script tag was found. \")\n    return false;\n  }\n\n  var js_urls = [\"https://cdn.pydata.org/bokeh/release/bokeh-0.12.10.min.js\", \"https://cdn.pydata.org/bokeh/release/bokeh-widgets-0.12.10.min.js\", \"https://cdn.pydata.org/bokeh/release/bokeh-tables-0.12.10.min.js\", \"https://cdn.pydata.org/bokeh/release/bokeh-gl-0.12.10.min.js\"];\n\n  var inline_js = [\n    function(Bokeh) {\n      Bokeh.set_log_level(\"info\");\n    },\n    \n    function(Bokeh) {\n      \n    },\n    function(Bokeh) {\n      console.log(\"Bokeh: injecting CSS: https://cdn.pydata.org/bokeh/release/bokeh-0.12.10.min.css\");\n      Bokeh.embed.inject_css(\"https://cdn.pydata.org/bokeh/release/bokeh-0.12.10.min.css\");\n      console.log(\"Bokeh: injecting CSS: https://cdn.pydata.org/bokeh/release/bokeh-widgets-0.12.10.min.css\");\n      Bokeh.embed.inject_css(\"https://cdn.pydata.org/bokeh/release/bokeh-widgets-0.12.10.min.css\");\n      console.log(\"Bokeh: injecting CSS: https://cdn.pydata.org/bokeh/release/bokeh-tables-0.12.10.min.css\");\n      Bokeh.embed.inject_css(\"https://cdn.pydata.org/bokeh/release/bokeh-tables-0.12.10.min.css\");\n    }\n  ];\n\n  function run_inline_js() {\n    \n    if ((root.Bokeh !== undefined) || (force === true)) {\n      for (var i = 0; i < inline_js.length; i++) {\n        inline_js[i].call(root, root.Bokeh);\n      }if (force === true) {\n        display_loaded();\n      }} else if (Date.now() < root._bokeh_timeout) {\n      setTimeout(run_inline_js, 100);\n    } else if (!root._bokeh_failed_load) {\n      console.log(\"Bokeh: BokehJS failed to load within specified timeout.\");\n      root._bokeh_failed_load = true;\n    } else if (force !== true) {\n      var cell = $(document.getElementById(\"4e946df7-1db4-4692-bdd5-472bef352e8b\")).parents('.cell').data().cell;\n      cell.output_area.append_execute_result(NB_LOAD_WARNING)\n    }\n\n  }\n\n  if (root._bokeh_is_loading === 0) {\n    console.log(\"Bokeh: BokehJS loaded, going straight to plotting\");\n    run_inline_js();\n  } else {\n    load_libs(js_urls, function() {\n      console.log(\"Bokeh: BokehJS plotting callback run at\", now());\n      run_inline_js();\n    });\n  }\n}(window));"
     },
     "metadata": {},
     "output_type": "display_data"
    },
    {
     "name": "stderr",
     "output_type": "stream",
     "text": [
      "processing_tools.py:170: RuntimeWarning: invalid value encountered in sqrt\n",
      "  self.dict['e_y'][i] = np.sqrt((y_2*py_2)-(ypy*ypy))\n",
      "processing_tools.py:169: RuntimeWarning: invalid value encountered in sqrt\n",
      "  self.dict['e_x'][i] = np.sqrt((x_2*px_2)-(xpx*xpx))                        #\n",
      "processing_tools.py:30: RuntimeWarning: divide by zero encountered in divide\n",
      "  calc = np.divide(calc, emittance)\n",
      "processing_tools.py:30: RuntimeWarning: invalid value encountered in divide\n",
      "  calc = np.divide(calc, emittance)\n",
      "processing_tools.py:289: RuntimeWarning: divide by zero encountered in double_scalars\n",
      "  (2*np.pi*self.dict['std_x'][slice_no]*self.dict['std_y'][slice_no])\n",
      "FEL_equations.py:102: RuntimeWarning: invalid value encountered in double_scalars\n",
      "  return np.array([gain_length*wavelength/(4*const.pi*transverse_size**2)])\n",
      "FEL_equations.py:93: RuntimeWarning: invalid value encountered in power\n",
      "  sp[12]*np.power(nd, sp[13])*np.power(ne, sp[14])+\n",
      "FEL_equations.py:94: RuntimeWarning: invalid value encountered in power\n",
      "  sp[15]*np.power(nd, sp[16])*np.power(ne, sp[17])*np.power(ny, sp[18]))\n"
     ]
    },
    {
     "data": {
      "text/html": [
       "\n",
       "<div class=\"bk-root\">\n",
       "    <div class=\"bk-plotdiv\" id=\"ebb9470d-b1af-4de7-add6-319a9e717c31\"></div>\n",
       "</div>"
      ]
     },
     "metadata": {},
     "output_type": "display_data"
    },
    {
     "data": {
      "application/javascript": [
       "(function(root) {\n",
       "  function embed_document(root) {\n",
       "    var docs_json = {\"5df2c369-379e-4a9e-904c-c3a831c94785\":{\"roots\":{\"references\":[{\"attributes\":{\"axis_label\":\"CoM_y\",\"axis_line_cap\":\"round\",\"axis_line_color\":{\"value\":\"#AAAAAA\"},\"formatter\":{\"id\":\"19e62414-379a-47dc-a8e8-d11cf9b16a02\",\"type\":\"BasicTickFormatter\"},\"major_label_text_color\":{\"value\":\"#666666\"},\"major_label_text_font_size\":{\"value\":\"10pt\"},\"major_tick_in\":null,\"major_tick_line_cap\":\"round\",\"major_tick_line_color\":{\"value\":\"#AAAAAA\"},\"minor_tick_in\":null,\"minor_tick_out\":null,\"plot\":{\"id\":\"8083cb2d-f790-40cf-9ea3-2834f54124fb\",\"type\":\"Plot\"},\"ticker\":{\"id\":\"7494b0e1-d2dc-48ce-923a-be44a65cdddb\",\"type\":\"BasicTicker\"}},\"id\":\"9bc35a01-4825-4512-bb1e-e6b451fdcb68\",\"type\":\"LinearAxis\"},{\"attributes\":{\"axis_label\":\"z_pos\",\"axis_line_cap\":\"round\",\"axis_line_color\":{\"value\":\"#AAAAAA\"},\"formatter\":{\"id\":\"4aae2960-01de-4e71-b395-a3101eee7061\",\"type\":\"BasicTickFormatter\"},\"major_label_text_color\":{\"value\":\"#666666\"},\"major_label_text_font_size\":{\"value\":\"10pt\"},\"major_tick_in\":null,\"major_tick_line_cap\":\"round\",\"major_tick_line_color\":{\"value\":\"#AAAAAA\"},\"minor_tick_in\":null,\"minor_tick_out\":null,\"plot\":{\"id\":\"8083cb2d-f790-40cf-9ea3-2834f54124fb\",\"type\":\"Plot\"},\"ticker\":{\"id\":\"de0b1633-c80a-4dcf-8496-189610cbae37\",\"type\":\"BasicTicker\"}},\"id\":\"07c9ee52-ee48-43e7-aadf-f2e2f43623cf\",\"type\":\"LinearAxis\"},{\"attributes\":{},\"id\":\"e8fb5c5e-a3ee-4c52-a0a4-2cf24d1b5cfe\",\"type\":\"LinearScale\"},{\"attributes\":{\"callback\":null,\"column_names\":[\"index\",\"CoM_y\",\"z_pos\"],\"data\":{\"CoM_y\":{\"__ndarray__\":\"V+7kV5z/Qb8pS74jdOFRv4gGyQXe/hk/R4AKr3O/Mj9mJt6AkEgTP80MaHqHGBK/K/ECK39f7r4xpunk2nkjv3i9HQKxw/g++ybvyIGjAD/Nx7+lFBr+vm8xjTbX5xM/Kf5euKJ1Cb9IBB6rHI0IP+AUlmr2uga/Izg2Sym58j4Iyqu8J8kDv12XFD9p6hu/Pp90lwA7D7+cBTBKyqEAv2PfV/9pTQS/Otw2jP8q4r6MNMG9vFgGP6eHDC6NGKC+noM7hn5sBT9kHE8s10Dbvhf7NS/6lPw+aNBupIZ16j4r4ZfziGgfP9C29KOkTwy/zNjwwi8RED9MMWy3lu6Svlw0OFsHjfc+YKedMODGmD6pj3FR6OYMP0fq/TB7NdU+qyQ+N04BED9K4EoziQoBP8LXjBk9twA/JD1e3hwo1j4Mw4Aze94MP1Mv9KvBc9Y+1mMRRu9PDb+dNsioXQjuvsm5gE6CEwO/ESuCMLlyBj+x5opAwBPjPtQt1ZexWdi+qYm2/h3GBz8Qg/e054MJv7m8yJUAkgA/ZA8sC3sW877wcFTrLjn5Pj//lGP5MvI+suOa7PJ2zr7OkZtA/zDRvvbStkFvofK+MqtD4qRBCj8V6516GvoXv4FsTDma6uO+cWv1bVuKE785FF9LylYFP0K4al7YuBa/CaV1tu3iBD8Sczu6zIYDPzQQGqUhRxA/ddpbIA7i5b6i9nuNz2ANP/QH28sO2Aw/SoQzKNYvlr6nCPT3ObQHPy7ioaChG/g++E/rTWpXB79Pr1An1hwGv9hCz3I+wgm/mPU1FKKI7D5mQk3wueHYPsnO7g9CNQs/AcZbp3wkAr+3rQANOgMRv2cE39IZTRC/eRYJ88ls/L7jgLo0LN0Qv3FzkH4K//e+rX1qttCZBj+C7UW6Zq4DPxqF8oIcj/o+oGqXY6AFHz8rs/pPbiXrPuPbzrXl6BG/gtdayZqS/b7dzMfJzmjFvgpR5TfiGhC/F04pPU0NB78QxjICpC0hv+WcS7v1a+O+PyNWUgDwEz8rO7FDCtYtv9NWapb/HyE//fhDGrINLr8=\",\"dtype\":\"float64\",\"shape\":[100]},\"index\":[0,1,2,3,4,5,6,7,8,9,10,11,12,13,14,15,16,17,18,19,20,21,22,23,24,25,26,27,28,29,30,31,32,33,34,35,36,37,38,39,40,41,42,43,44,45,46,47,48,49,50,51,52,53,54,55,56,57,58,59,60,61,62,63,64,65,66,67,68,69,70,71,72,73,74,75,76,77,78,79,80,81,82,83,84,85,86,87,88,89,90,91,92,93,94,95,96,97,98,99],\"z_pos\":{\"__ndarray__\":\"giFKBpO99b4a2uPbXqTzvrKSfbEqi/G+lJYuDu3j7r7DB2K5hLHqvvJ4lWQcf+a+IurID7RM4r6ktvh1lzTcvgSZX8zGz9O+yPaMRezVxr4g7mrJKzGovnj/rsGserU+ALsJtPeGyz4g+52DTCjWPsAYNy0djd4+MBto6/Z44z4AqjRAX6vnPtA4AZXH3es+0OPm9BcI8D44K00fTCHyPqBys0mAOvQ+CLoZdLRT9j5wAYCe6Gz4PtlI5sgchvo+QpBM81Cf/D6q17Idhbj+PomPDKTcaAA/PbM/uXZ1AT/x1nLOEIICP6X6peOqjgM/WR7Z+ESbBD8NQgwO36cFP8FlPyN5tAY/dYlyOBPBBz8praVNrc0IP93Q2GJH2gk/kfQLeOHmCj9FGD+Ne/MLP/k7cqIVAA0/rV+lt68MDj9hg9jMSRkPP4vTBfHxEhA/ZWWf+z6ZED8/9zgGjB8RPxmJ0hDZpRE/8xpsGyYsEj/NrAUmc7ISP6c+nzDAOBM/gdA4Ow2/Ez9bYtJFWkUUPzX0a1CnyxQ/D4YFW/RRFT/pF59lQdgVP8OpOHCOXhY/nTvSetvkFj93zWuFKGsXP1FfBZB18Rc/K/GemsJ3GD8FgzilD/4YP98U0q9chBk/uaZruqkKGj+TOAXF9pAaP23Kns9DFxs/R1w42pCdGz8h7tHk3SMcP/t/a+8qqhw/1REF+ncwHT+vo54ExbYdP4k1OA8SPR4/Y8fRGV/DHj89WWskrEkfPxfrBC/5zx8/eD7PHCMrID9mBxyiSW4gP1LQaCdwsSA/QJm1rJb0ID8sYgIyvTchPxorT7fjeiE/BvSbPAq+IT/0vOjBMAEiP+CFNUdXRCI/zk6CzH2HIj+6F89RpMoiP6jgG9fKDSM/lKloXPFQIz+CcrXhF5QjP247Amc+1yM/XARP7GQaJD9IzZtxi10kPzaW6PaxoCQ/Il81fNjjJD8QKIIB/yYlP/zwzoYlaiU/6rkbDEytJT/WgmiRcvAlP8RLtRaZMyY/shQCnL92Jj+e3U4h5rkmP4ymm6YM/SY/eG/oKzNAJz8=\",\"dtype\":\"float64\",\"shape\":[100]}}},\"id\":\"c5f5b3d2-2b56-4a14-b200-79b68da5ea63\",\"type\":\"ColumnDataSource\"},{\"attributes\":{\"callback\":{\"id\":\"166f88d8-9dc4-4d60-acd3-1baf0e9e81d8\",\"type\":\"CustomJS\"},\"end\":2,\"sizing_mode\":\"scale_width\",\"start\":0,\"title\":\"Section\",\"value\":0},\"id\":\"427d993b-3d29-4420-88d1-0ce2c9567c89\",\"type\":\"Slider\"},{\"attributes\":{\"args\":{\"_0\":{\"id\":\"299bc488-24d6-44c8-ba94-3284e14da40d\",\"type\":\"ColumnDataSource\"},\"_1\":{\"id\":\"fd6efb04-c0c8-4389-b25d-a9a6aa6b1a70\",\"type\":\"ColumnDataSource\"},\"_2\":{\"id\":\"c5f5b3d2-2b56-4a14-b200-79b68da5ea63\",\"type\":\"ColumnDataSource\"},\"renderer_source\":{\"id\":\"299bc488-24d6-44c8-ba94-3284e14da40d\",\"type\":\"ColumnDataSource\"},\"slider\":{\"id\":\"427d993b-3d29-4420-88d1-0ce2c9567c89\",\"type\":\"Slider\"},\"text_source\":{\"id\":\"2da0aa6b-095a-4f7a-944f-92efc626b954\",\"type\":\"ColumnDataSource\"}},\"code\":\"\\n        var section = slider.get('value'),\\n            sources = {0: _0, 1: _1, 2: _2},\\n            new_source_data = sources[section].get('data');\\n        renderer_source.set('data', new_source_data);\\n        text_source.set('data', {'section': [String(section)]});\\n    \"},\"id\":\"166f88d8-9dc4-4d60-acd3-1baf0e9e81d8\",\"type\":\"CustomJS\"},{\"attributes\":{\"callback\":null,\"column_names\":[\"index\",\"CoM_y\",\"z_pos\"],\"data\":{\"CoM_y\":{\"__ndarray__\":\"V+7kV5z/Qb8pS74jdOFRv4gGyQXe/hk/R4AKr3O/Mj9mJt6AkEgTP80MaHqHGBK/K/ECK39f7r4xpunk2nkjv3i9HQKxw/g++ybvyIGjAD/Nx7+lFBr+vm8xjTbX5xM/Kf5euKJ1Cb9IBB6rHI0IP+AUlmr2uga/Izg2Sym58j4Iyqu8J8kDv12XFD9p6hu/Pp90lwA7D7+cBTBKyqEAv2PfV/9pTQS/Otw2jP8q4r6MNMG9vFgGP6eHDC6NGKC+noM7hn5sBT9kHE8s10Dbvhf7NS/6lPw+aNBupIZ16j4r4ZfziGgfP9C29KOkTwy/zNjwwi8RED9MMWy3lu6Svlw0OFsHjfc+YKedMODGmD6pj3FR6OYMP0fq/TB7NdU+qyQ+N04BED9K4EoziQoBP8LXjBk9twA/JD1e3hwo1j4Mw4Aze94MP1Mv9KvBc9Y+1mMRRu9PDb+dNsioXQjuvsm5gE6CEwO/ESuCMLlyBj+x5opAwBPjPtQt1ZexWdi+qYm2/h3GBz8Qg/e054MJv7m8yJUAkgA/ZA8sC3sW877wcFTrLjn5Pj//lGP5MvI+suOa7PJ2zr7OkZtA/zDRvvbStkFvofK+MqtD4qRBCj8V6516GvoXv4FsTDma6uO+cWv1bVuKE785FF9LylYFP0K4al7YuBa/CaV1tu3iBD8Sczu6zIYDPzQQGqUhRxA/ddpbIA7i5b6i9nuNz2ANP/QH28sO2Aw/SoQzKNYvlr6nCPT3ObQHPy7ioaChG/g++E/rTWpXB79Pr1An1hwGv9hCz3I+wgm/mPU1FKKI7D5mQk3wueHYPsnO7g9CNQs/AcZbp3wkAr+3rQANOgMRv2cE39IZTRC/eRYJ88ls/L7jgLo0LN0Qv3FzkH4K//e+rX1qttCZBj+C7UW6Zq4DPxqF8oIcj/o+oGqXY6AFHz8rs/pPbiXrPuPbzrXl6BG/gtdayZqS/b7dzMfJzmjFvgpR5TfiGhC/F04pPU0NB78QxjICpC0hv+WcS7v1a+O+PyNWUgDwEz8rO7FDCtYtv9NWapb/HyE//fhDGrINLr8=\",\"dtype\":\"float64\",\"shape\":[100]},\"index\":[0,1,2,3,4,5,6,7,8,9,10,11,12,13,14,15,16,17,18,19,20,21,22,23,24,25,26,27,28,29,30,31,32,33,34,35,36,37,38,39,40,41,42,43,44,45,46,47,48,49,50,51,52,53,54,55,56,57,58,59,60,61,62,63,64,65,66,67,68,69,70,71,72,73,74,75,76,77,78,79,80,81,82,83,84,85,86,87,88,89,90,91,92,93,94,95,96,97,98,99],\"z_pos\":{\"__ndarray__\":\"giFKBpO99b4a2uPbXqTzvrKSfbEqi/G+lJYuDu3j7r7DB2K5hLHqvvJ4lWQcf+a+IurID7RM4r6ktvh1lzTcvgSZX8zGz9O+yPaMRezVxr4g7mrJKzGovnj/rsGserU+ALsJtPeGyz4g+52DTCjWPsAYNy0djd4+MBto6/Z44z4AqjRAX6vnPtA4AZXH3es+0OPm9BcI8D44K00fTCHyPqBys0mAOvQ+CLoZdLRT9j5wAYCe6Gz4PtlI5sgchvo+QpBM81Cf/D6q17Idhbj+PomPDKTcaAA/PbM/uXZ1AT/x1nLOEIICP6X6peOqjgM/WR7Z+ESbBD8NQgwO36cFP8FlPyN5tAY/dYlyOBPBBz8praVNrc0IP93Q2GJH2gk/kfQLeOHmCj9FGD+Ne/MLP/k7cqIVAA0/rV+lt68MDj9hg9jMSRkPP4vTBfHxEhA/ZWWf+z6ZED8/9zgGjB8RPxmJ0hDZpRE/8xpsGyYsEj/NrAUmc7ISP6c+nzDAOBM/gdA4Ow2/Ez9bYtJFWkUUPzX0a1CnyxQ/D4YFW/RRFT/pF59lQdgVP8OpOHCOXhY/nTvSetvkFj93zWuFKGsXP1FfBZB18Rc/K/GemsJ3GD8FgzilD/4YP98U0q9chBk/uaZruqkKGj+TOAXF9pAaP23Kns9DFxs/R1w42pCdGz8h7tHk3SMcP/t/a+8qqhw/1REF+ncwHT+vo54ExbYdP4k1OA8SPR4/Y8fRGV/DHj89WWskrEkfPxfrBC/5zx8/eD7PHCMrID9mBxyiSW4gP1LQaCdwsSA/QJm1rJb0ID8sYgIyvTchPxorT7fjeiE/BvSbPAq+IT/0vOjBMAEiP+CFNUdXRCI/zk6CzH2HIj+6F89RpMoiP6jgG9fKDSM/lKloXPFQIz+CcrXhF5QjP247Amc+1yM/XARP7GQaJD9IzZtxi10kPzaW6PaxoCQ/Il81fNjjJD8QKIIB/yYlP/zwzoYlaiU/6rkbDEytJT/WgmiRcvAlP8RLtRaZMyY/shQCnL92Jj+e3U4h5rkmP4ymm6YM/SY/eG/oKzNAJz8=\",\"dtype\":\"float64\",\"shape\":[100]}}},\"id\":\"299bc488-24d6-44c8-ba94-3284e14da40d\",\"type\":\"ColumnDataSource\"},{\"attributes\":{},\"id\":\"7494b0e1-d2dc-48ce-923a-be44a65cdddb\",\"type\":\"BasicTicker\"},{\"attributes\":{\"callback\":null,\"column_names\":[\"section\"],\"data\":{\"section\":[\"0\"]}},\"id\":\"2da0aa6b-095a-4f7a-944f-92efc626b954\",\"type\":\"ColumnDataSource\"},{\"attributes\":{\"below\":[{\"id\":\"07c9ee52-ee48-43e7-aadf-f2e2f43623cf\",\"type\":\"LinearAxis\"}],\"left\":[{\"id\":\"9bc35a01-4825-4512-bb1e-e6b451fdcb68\",\"type\":\"LinearAxis\"}],\"min_border\":20,\"outline_line_color\":{\"value\":null},\"plot_height\":400,\"plot_width\":800,\"renderers\":[{\"id\":\"07c9ee52-ee48-43e7-aadf-f2e2f43623cf\",\"type\":\"LinearAxis\"},{\"id\":\"9bc35a01-4825-4512-bb1e-e6b451fdcb68\",\"type\":\"LinearAxis\"},{\"id\":\"e83e1f05-e764-44ea-a160-1b48e879da36\",\"type\":\"GlyphRenderer\"},{\"id\":\"3a039a09-3380-4ea8-8e9b-82cfc0d78def\",\"type\":\"GlyphRenderer\"}],\"sizing_mode\":\"scale_width\",\"title\":{\"id\":\"58528e27-c8ac-4acb-ab2d-1595d09f9c15\",\"type\":\"Title\"},\"toolbar\":{\"id\":\"58add8fd-b723-49a5-9224-b55d3cdc2b42\",\"type\":\"Toolbar\"},\"x_range\":{\"id\":\"56c3f3e5-109f-42cf-8d79-520879404515\",\"type\":\"Range1d\"},\"x_scale\":{\"id\":\"e8fb5c5e-a3ee-4c52-a0a4-2cf24d1b5cfe\",\"type\":\"LinearScale\"},\"y_range\":{\"id\":\"d924df04-43fa-4271-86ee-018870d0bfbc\",\"type\":\"Range1d\"},\"y_scale\":{\"id\":\"dcd89c84-c3d9-439b-9503-6d280e9675b8\",\"type\":\"LinearScale\"}},\"id\":\"8083cb2d-f790-40cf-9ea3-2834f54124fb\",\"type\":\"Plot\"},{\"attributes\":{\"callback\":null,\"column_names\":[\"index\",\"CoM_y\",\"z_pos\"],\"data\":{\"CoM_y\":{\"__ndarray__\":\"V+7kV5z/Qb8pS74jdOFRv4gGyQXe/hk/R4AKr3O/Mj9mJt6AkEgTP80MaHqHGBK/K/ECK39f7r4xpunk2nkjv3i9HQKxw/g++ybvyIGjAD/Nx7+lFBr+vm8xjTbX5xM/Kf5euKJ1Cb9IBB6rHI0IP+AUlmr2uga/Izg2Sym58j4Iyqu8J8kDv12XFD9p6hu/Pp90lwA7D7+cBTBKyqEAv2PfV/9pTQS/Otw2jP8q4r6MNMG9vFgGP6eHDC6NGKC+noM7hn5sBT9kHE8s10Dbvhf7NS/6lPw+aNBupIZ16j4r4ZfziGgfP9C29KOkTwy/zNjwwi8RED9MMWy3lu6Svlw0OFsHjfc+YKedMODGmD6pj3FR6OYMP0fq/TB7NdU+qyQ+N04BED9K4EoziQoBP8LXjBk9twA/JD1e3hwo1j4Mw4Aze94MP1Mv9KvBc9Y+1mMRRu9PDb+dNsioXQjuvsm5gE6CEwO/ESuCMLlyBj+x5opAwBPjPtQt1ZexWdi+qYm2/h3GBz8Qg/e054MJv7m8yJUAkgA/ZA8sC3sW877wcFTrLjn5Pj//lGP5MvI+suOa7PJ2zr7OkZtA/zDRvvbStkFvofK+MqtD4qRBCj8V6516GvoXv4FsTDma6uO+cWv1bVuKE785FF9LylYFP0K4al7YuBa/CaV1tu3iBD8Sczu6zIYDPzQQGqUhRxA/ddpbIA7i5b6i9nuNz2ANP/QH28sO2Aw/SoQzKNYvlr6nCPT3ObQHPy7ioaChG/g++E/rTWpXB79Pr1An1hwGv9hCz3I+wgm/mPU1FKKI7D5mQk3wueHYPsnO7g9CNQs/AcZbp3wkAr+3rQANOgMRv2cE39IZTRC/eRYJ88ls/L7jgLo0LN0Qv3FzkH4K//e+rX1qttCZBj+C7UW6Zq4DPxqF8oIcj/o+oGqXY6AFHz8rs/pPbiXrPuPbzrXl6BG/gtdayZqS/b7dzMfJzmjFvgpR5TfiGhC/F04pPU0NB78QxjICpC0hv+WcS7v1a+O+PyNWUgDwEz8rO7FDCtYtv9NWapb/HyE//fhDGrINLr8=\",\"dtype\":\"float64\",\"shape\":[100]},\"index\":[0,1,2,3,4,5,6,7,8,9,10,11,12,13,14,15,16,17,18,19,20,21,22,23,24,25,26,27,28,29,30,31,32,33,34,35,36,37,38,39,40,41,42,43,44,45,46,47,48,49,50,51,52,53,54,55,56,57,58,59,60,61,62,63,64,65,66,67,68,69,70,71,72,73,74,75,76,77,78,79,80,81,82,83,84,85,86,87,88,89,90,91,92,93,94,95,96,97,98,99],\"z_pos\":{\"__ndarray__\":\"giFKBpO99b4a2uPbXqTzvrKSfbEqi/G+lJYuDu3j7r7DB2K5hLHqvvJ4lWQcf+a+IurID7RM4r6ktvh1lzTcvgSZX8zGz9O+yPaMRezVxr4g7mrJKzGovnj/rsGserU+ALsJtPeGyz4g+52DTCjWPsAYNy0djd4+MBto6/Z44z4AqjRAX6vnPtA4AZXH3es+0OPm9BcI8D44K00fTCHyPqBys0mAOvQ+CLoZdLRT9j5wAYCe6Gz4PtlI5sgchvo+QpBM81Cf/D6q17Idhbj+PomPDKTcaAA/PbM/uXZ1AT/x1nLOEIICP6X6peOqjgM/WR7Z+ESbBD8NQgwO36cFP8FlPyN5tAY/dYlyOBPBBz8praVNrc0IP93Q2GJH2gk/kfQLeOHmCj9FGD+Ne/MLP/k7cqIVAA0/rV+lt68MDj9hg9jMSRkPP4vTBfHxEhA/ZWWf+z6ZED8/9zgGjB8RPxmJ0hDZpRE/8xpsGyYsEj/NrAUmc7ISP6c+nzDAOBM/gdA4Ow2/Ez9bYtJFWkUUPzX0a1CnyxQ/D4YFW/RRFT/pF59lQdgVP8OpOHCOXhY/nTvSetvkFj93zWuFKGsXP1FfBZB18Rc/K/GemsJ3GD8FgzilD/4YP98U0q9chBk/uaZruqkKGj+TOAXF9pAaP23Kns9DFxs/R1w42pCdGz8h7tHk3SMcP/t/a+8qqhw/1REF+ncwHT+vo54ExbYdP4k1OA8SPR4/Y8fRGV/DHj89WWskrEkfPxfrBC/5zx8/eD7PHCMrID9mBxyiSW4gP1LQaCdwsSA/QJm1rJb0ID8sYgIyvTchPxorT7fjeiE/BvSbPAq+IT/0vOjBMAEiP+CFNUdXRCI/zk6CzH2HIj+6F89RpMoiP6jgG9fKDSM/lKloXPFQIz+CcrXhF5QjP247Amc+1yM/XARP7GQaJD9IzZtxi10kPzaW6PaxoCQ/Il81fNjjJD8QKIIB/yYlP/zwzoYlaiU/6rkbDEytJT/WgmiRcvAlP8RLtRaZMyY/shQCnL92Jj+e3U4h5rkmP4ymm6YM/SY/eG/oKzNAJz8=\",\"dtype\":\"float64\",\"shape\":[100]}}},\"id\":\"fd6efb04-c0c8-4389-b25d-a9a6aa6b1a70\",\"type\":\"ColumnDataSource\"},{\"attributes\":{\"plot\":null,\"text\":\"\"},\"id\":\"58528e27-c8ac-4acb-ab2d-1595d09f9c15\",\"type\":\"Title\"},{\"attributes\":{\"children\":[{\"id\":\"427d993b-3d29-4420-88d1-0ce2c9567c89\",\"type\":\"Slider\"}],\"sizing_mode\":\"scale_width\"},\"id\":\"1987694f-9ef6-4d5e-8b73-8bc228b38371\",\"type\":\"WidgetBox\"},{\"attributes\":{\"source\":{\"id\":\"299bc488-24d6-44c8-ba94-3284e14da40d\",\"type\":\"ColumnDataSource\"}},\"id\":\"0b4f009c-4301-45a3-b825-76af4f01a2d0\",\"type\":\"CDSView\"},{\"attributes\":{\"children\":[{\"id\":\"697549ef-7355-4ab3-a9ce-896ac0e7e3a4\",\"type\":\"Row\"},{\"id\":\"6b6fe356-1c47-4a98-941b-9912bf637513\",\"type\":\"Row\"}],\"sizing_mode\":\"scale_width\"},\"id\":\"4c34d2a5-08f1-45be-8188-c2a960387af4\",\"type\":\"Column\"},{\"attributes\":{},\"id\":\"19e62414-379a-47dc-a8e8-d11cf9b16a02\",\"type\":\"BasicTickFormatter\"},{\"attributes\":{\"text\":{\"field\":\"section\"},\"text_color\":{\"value\":\"#000000\"},\"text_font_size\":{\"value\":\"150pt\"},\"x\":{\"value\":2},\"y\":{\"value\":35}},\"id\":\"da93e023-312b-4130-b531-70bbab230aa7\",\"type\":\"Text\"},{\"attributes\":{},\"id\":\"4aae2960-01de-4e71-b395-a3101eee7061\",\"type\":\"BasicTickFormatter\"},{\"attributes\":{\"children\":[{\"id\":\"8083cb2d-f790-40cf-9ea3-2834f54124fb\",\"type\":\"Plot\"}],\"sizing_mode\":\"scale_width\"},\"id\":\"697549ef-7355-4ab3-a9ce-896ac0e7e3a4\",\"type\":\"Row\"},{\"attributes\":{\"source\":{\"id\":\"2da0aa6b-095a-4f7a-944f-92efc626b954\",\"type\":\"ColumnDataSource\"}},\"id\":\"eb50ff48-14b9-48da-9478-f37f09c642c2\",\"type\":\"CDSView\"},{\"attributes\":{\"callback\":null,\"end\":0.00028606962499999996,\"start\":-0.0010913499999999998},\"id\":\"d924df04-43fa-4271-86ee-018870d0bfbc\",\"type\":\"Range1d\"},{\"attributes\":{\"active_drag\":\"auto\",\"active_inspect\":\"auto\",\"active_scroll\":\"auto\",\"active_tap\":\"auto\"},\"id\":\"58add8fd-b723-49a5-9224-b55d3cdc2b42\",\"type\":\"Toolbar\"},{\"attributes\":{},\"id\":\"dcd89c84-c3d9-439b-9503-6d280e9675b8\",\"type\":\"LinearScale\"},{\"attributes\":{},\"id\":\"de0b1633-c80a-4dcf-8496-189610cbae37\",\"type\":\"BasicTicker\"},{\"attributes\":{\"children\":[{\"id\":\"1987694f-9ef6-4d5e-8b73-8bc228b38371\",\"type\":\"WidgetBox\"}],\"sizing_mode\":\"scale_width\"},\"id\":\"6b6fe356-1c47-4a98-941b-9912bf637513\",\"type\":\"Row\"},{\"attributes\":{\"data_source\":{\"id\":\"299bc488-24d6-44c8-ba94-3284e14da40d\",\"type\":\"ColumnDataSource\"},\"glyph\":{\"id\":\"4b0ff4fd-62b5-4777-bacb-38f39a5d5ac6\",\"type\":\"Line\"},\"hover_glyph\":null,\"muted_glyph\":null,\"view\":{\"id\":\"0b4f009c-4301-45a3-b825-76af4f01a2d0\",\"type\":\"CDSView\"}},\"id\":\"3a039a09-3380-4ea8-8e9b-82cfc0d78def\",\"type\":\"GlyphRenderer\"},{\"attributes\":{\"callback\":null,\"end\":0.00017738938000000002,\"start\":-2.073338e-05},\"id\":\"56c3f3e5-109f-42cf-8d79-520879404515\",\"type\":\"Range1d\"},{\"attributes\":{\"line_alpha\":{\"value\":0.5},\"line_color\":{\"value\":\"#6b0000\"},\"line_width\":{\"value\":0.5},\"x\":{\"field\":\"z_pos\"},\"y\":{\"field\":\"CoM_y\"}},\"id\":\"4b0ff4fd-62b5-4777-bacb-38f39a5d5ac6\",\"type\":\"Line\"},{\"attributes\":{\"data_source\":{\"id\":\"2da0aa6b-095a-4f7a-944f-92efc626b954\",\"type\":\"ColumnDataSource\"},\"glyph\":{\"id\":\"da93e023-312b-4130-b531-70bbab230aa7\",\"type\":\"Text\"},\"hover_glyph\":null,\"muted_glyph\":null,\"view\":{\"id\":\"eb50ff48-14b9-48da-9478-f37f09c642c2\",\"type\":\"CDSView\"}},\"id\":\"e83e1f05-e764-44ea-a160-1b48e879da36\",\"type\":\"GlyphRenderer\"}],\"root_ids\":[\"4c34d2a5-08f1-45be-8188-c2a960387af4\"]},\"title\":\"Bokeh Application\",\"version\":\"0.12.10\"}};\n",
       "    var render_items = [{\"docid\":\"5df2c369-379e-4a9e-904c-c3a831c94785\",\"elementid\":\"ebb9470d-b1af-4de7-add6-319a9e717c31\",\"modelid\":\"4c34d2a5-08f1-45be-8188-c2a960387af4\"}];\n",
       "\n",
       "    root.Bokeh.embed.embed_items(docs_json, render_items);\n",
       "  }\n",
       "\n",
       "  if (root.Bokeh !== undefined) {\n",
       "    embed_document(root);\n",
       "  } else {\n",
       "    var attempts = 0;\n",
       "    var timer = setInterval(function(root) {\n",
       "      if (root.Bokeh !== undefined) {\n",
       "        embed_document(root);\n",
       "        clearInterval(timer);\n",
       "      }\n",
       "      attempts++;\n",
       "      if (attempts > 100) {\n",
       "        console.log(\"Bokeh: ERROR: Unable to embed document because BokehJS library is missing\")\n",
       "        clearInterval(timer);\n",
       "      }\n",
       "    }, 10, root)\n",
       "  }\n",
       "})(window);"
      ],
      "application/vnd.bokehjs_exec.v0+json": ""
     },
     "metadata": {
      "application/vnd.bokehjs_exec.v0+json": {
       "id": "4c34d2a5-08f1-45be-8188-c2a960387af4"
      }
     },
     "output_type": "display_data"
    }
   ],
   "source": [
    "list_of_files = fp.directory_list('./example') #returns a list of files that \n",
    "#can be sorted in your preferred method\n",
    "fp.sort_nicely(list_of_files) # sorts in a nice way, but you ought to check\n",
    "#in this case the files are too different to work, so I provide similar files \n",
    "\n",
    "list_of_files = ['./example/noise_10kSI_MASP.h5',\n",
    "             './example/noise_10kSI_MASP.h5',\n",
    "             './example/noise_10kSI_MASP.h5']\n",
    "\n",
    "from bokeh.plotting import show\n",
    "from bokeh.io import output_notebook  #To view on a notebook such as this\n",
    "output_notebook()  # allows Bokeh to output to the notebook\n",
    "\n",
    "int_plot = ip.interactive_plot(list_of_files,'z_pos','CoM_y',num_slices=100, undulator_period=0.0275,k_fact=1) \n",
    "#what to plot\n",
    "show(int_plot)"
   ]
  },
  {
   "cell_type": "markdown",
   "metadata": {},
   "source": [
    "#### Quick plotting\n",
    "To quickly plot any combination the pandas inbuit system can help"
   ]
  },
  {
   "cell_type": "code",
   "execution_count": 4,
   "metadata": {},
   "outputs": [
    {
     "data": {
      "image/png": "[encoded data removed]",
      "text/plain": [
       "<matplotlib.figure.Figure at 0xbdcbba8>"
      ]
     },
     "metadata": {},
     "output_type": "display_data"
    }
   ],
   "source": [
    "import matplotlib.pyplot as plt\n",
    "\n",
    "test = pt.ProcessedData('./example/example.h5',undulator_period=0.00275,num_slices=100)\n",
    "panda_data = test.StatsFrame()\n",
    "ax = panda_data.plot(x='z_pos',y='CoM_y')\n",
    "panda_data.plot(ax=ax, x='z_pos',y='std_y',c='b') #first option allows shared axes, one can even mix different runs\n",
    "#by plotting another dataset on the same axis\n",
    "plt.show()\n"
   ]
  },
  {
   "cell_type": "code",
   "execution_count": null,
   "metadata": {
    "collapsed": true
   },
   "outputs": [],
   "source": []
  },
  {
   "cell_type": "code",
   "execution_count": null,
   "metadata": {
    "collapsed": true
   },
   "outputs": [],
   "source": []
  },
  {
   "cell_type": "code",
   "execution_count": null,
   "metadata": {
    "collapsed": true
   },
   "outputs": [],
   "source": []
  }
 ],
 "metadata": {
  "kernelspec": {
   "display_name": "Python 2",
   "language": "python",
   "name": "python2"
  },
  "language_info": {
   "codemirror_mode": {
    "name": "ipython",
    "version": 2
   },
   "file_extension": ".py",
   "mimetype": "text/x-python",
   "name": "python",
   "nbconvert_exporter": "python",
   "pygments_lexer": "ipython2",
   "version": "2.7.14"
  }
 },
 "nbformat": 4,
 "nbformat_minor": 2
}
